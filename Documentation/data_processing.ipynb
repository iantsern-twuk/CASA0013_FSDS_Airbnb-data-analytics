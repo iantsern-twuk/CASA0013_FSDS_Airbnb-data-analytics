{
 "cells": [
  {
   "cell_type": "markdown",
   "id": "1668bb55-0128-4963-a3a8-c82e25730441",
   "metadata": {},
   "source": [
    "# Data Processing\n",
    "\n",
    "## Reviews\n",
    "**To note:**\n",
    "- I have saved this to reviews_provisional.csv\n",
    "- This is just using my own judgement, and based on what variables I expect we'll need: we can always add the exact date back in, for example\n",
    "- Note the listings with unrealistic review counts\n",
    "    - Large outliers seem to be things like hotels, but we don't know whether they are all like this\n",
    "    - Similarly, we'll probably need a threshold of minimum reviews to measure genuine listings\n",
    "- Note some weird reviewing activity\n",
    "    - e.g. people reviewing the same place many times (up to 38 in 2 years!)\n",
    "    - e.g. people leaving the same (often identical) reviews on multiple listings on the same day\n",
    "    - When examining individual cases they actually did look realistic, but we don't know whether this is the case for all (e.g. people deliberately reviewing their properties to improve their score)"
   ]
  },
  {
   "cell_type": "code",
   "execution_count": 75,
   "id": "72b88eb0-bdaf-4db6-a646-7e6c86e7b1d6",
   "metadata": {},
   "outputs": [
    {
     "name": "stdout",
     "output_type": "stream",
     "text": [
      "/home/jovyan/work/FSDS/CASA0013_FSDS_Airbnb-data-analytics/Documentation\n"
     ]
    }
   ],
   "source": [
    "#Loading packages for data loading\n",
    "import numpy as np\n",
    "import pandas as pd\n",
    "import geopandas as gpd\n",
    "import matplotlib.cm as cm\n",
    "import matplotlib.pyplot as plt \n",
    "import os\n",
    "print(os.getcwd())"
   ]
  },
  {
   "cell_type": "code",
   "execution_count": 2,
   "id": "7e8c9edd-2cc9-414a-af34-5b967bc64227",
   "metadata": {},
   "outputs": [
    {
     "ename": "BadGzipFile",
     "evalue": "Not a gzipped file (b've')",
     "output_type": "error",
     "traceback": [
      "\u001b[0;31m---------------------------------------------------------------------------\u001b[0m",
      "\u001b[0;31mBadGzipFile\u001b[0m                               Traceback (most recent call last)",
      "Cell \u001b[0;32mIn[2], line 1\u001b[0m\n\u001b[0;32m----> 1\u001b[0m reviews \u001b[38;5;241m=\u001b[39m \u001b[43mpd\u001b[49m\u001b[38;5;241;43m.\u001b[39;49m\u001b[43mread_csv\u001b[49m\u001b[43m(\u001b[49m\u001b[38;5;124;43m\"\u001b[39;49m\u001b[38;5;124;43mdata/reviews.csv.gz\u001b[39;49m\u001b[38;5;124;43m\"\u001b[39;49m\u001b[43m)\u001b[49m\n\u001b[1;32m      2\u001b[0m reviews\u001b[38;5;241m.\u001b[39mhead() \u001b[38;5;66;03m#Loaded successfully\u001b[39;00m\n",
      "File \u001b[0;32m/opt/conda/lib/python3.11/site-packages/pandas/io/parsers/readers.py:1026\u001b[0m, in \u001b[0;36mread_csv\u001b[0;34m(filepath_or_buffer, sep, delimiter, header, names, index_col, usecols, dtype, engine, converters, true_values, false_values, skipinitialspace, skiprows, skipfooter, nrows, na_values, keep_default_na, na_filter, verbose, skip_blank_lines, parse_dates, infer_datetime_format, keep_date_col, date_parser, date_format, dayfirst, cache_dates, iterator, chunksize, compression, thousands, decimal, lineterminator, quotechar, quoting, doublequote, escapechar, comment, encoding, encoding_errors, dialect, on_bad_lines, delim_whitespace, low_memory, memory_map, float_precision, storage_options, dtype_backend)\u001b[0m\n\u001b[1;32m   1013\u001b[0m kwds_defaults \u001b[38;5;241m=\u001b[39m _refine_defaults_read(\n\u001b[1;32m   1014\u001b[0m     dialect,\n\u001b[1;32m   1015\u001b[0m     delimiter,\n\u001b[0;32m   (...)\u001b[0m\n\u001b[1;32m   1022\u001b[0m     dtype_backend\u001b[38;5;241m=\u001b[39mdtype_backend,\n\u001b[1;32m   1023\u001b[0m )\n\u001b[1;32m   1024\u001b[0m kwds\u001b[38;5;241m.\u001b[39mupdate(kwds_defaults)\n\u001b[0;32m-> 1026\u001b[0m \u001b[38;5;28;01mreturn\u001b[39;00m \u001b[43m_read\u001b[49m\u001b[43m(\u001b[49m\u001b[43mfilepath_or_buffer\u001b[49m\u001b[43m,\u001b[49m\u001b[43m \u001b[49m\u001b[43mkwds\u001b[49m\u001b[43m)\u001b[49m\n",
      "File \u001b[0;32m/opt/conda/lib/python3.11/site-packages/pandas/io/parsers/readers.py:620\u001b[0m, in \u001b[0;36m_read\u001b[0;34m(filepath_or_buffer, kwds)\u001b[0m\n\u001b[1;32m    617\u001b[0m _validate_names(kwds\u001b[38;5;241m.\u001b[39mget(\u001b[38;5;124m\"\u001b[39m\u001b[38;5;124mnames\u001b[39m\u001b[38;5;124m\"\u001b[39m, \u001b[38;5;28;01mNone\u001b[39;00m))\n\u001b[1;32m    619\u001b[0m \u001b[38;5;66;03m# Create the parser.\u001b[39;00m\n\u001b[0;32m--> 620\u001b[0m parser \u001b[38;5;241m=\u001b[39m \u001b[43mTextFileReader\u001b[49m\u001b[43m(\u001b[49m\u001b[43mfilepath_or_buffer\u001b[49m\u001b[43m,\u001b[49m\u001b[43m \u001b[49m\u001b[38;5;241;43m*\u001b[39;49m\u001b[38;5;241;43m*\u001b[39;49m\u001b[43mkwds\u001b[49m\u001b[43m)\u001b[49m\n\u001b[1;32m    622\u001b[0m \u001b[38;5;28;01mif\u001b[39;00m chunksize \u001b[38;5;129;01mor\u001b[39;00m iterator:\n\u001b[1;32m    623\u001b[0m     \u001b[38;5;28;01mreturn\u001b[39;00m parser\n",
      "File \u001b[0;32m/opt/conda/lib/python3.11/site-packages/pandas/io/parsers/readers.py:1620\u001b[0m, in \u001b[0;36mTextFileReader.__init__\u001b[0;34m(self, f, engine, **kwds)\u001b[0m\n\u001b[1;32m   1617\u001b[0m     \u001b[38;5;28mself\u001b[39m\u001b[38;5;241m.\u001b[39moptions[\u001b[38;5;124m\"\u001b[39m\u001b[38;5;124mhas_index_names\u001b[39m\u001b[38;5;124m\"\u001b[39m] \u001b[38;5;241m=\u001b[39m kwds[\u001b[38;5;124m\"\u001b[39m\u001b[38;5;124mhas_index_names\u001b[39m\u001b[38;5;124m\"\u001b[39m]\n\u001b[1;32m   1619\u001b[0m \u001b[38;5;28mself\u001b[39m\u001b[38;5;241m.\u001b[39mhandles: IOHandles \u001b[38;5;241m|\u001b[39m \u001b[38;5;28;01mNone\u001b[39;00m \u001b[38;5;241m=\u001b[39m \u001b[38;5;28;01mNone\u001b[39;00m\n\u001b[0;32m-> 1620\u001b[0m \u001b[38;5;28mself\u001b[39m\u001b[38;5;241m.\u001b[39m_engine \u001b[38;5;241m=\u001b[39m \u001b[38;5;28;43mself\u001b[39;49m\u001b[38;5;241;43m.\u001b[39;49m\u001b[43m_make_engine\u001b[49m\u001b[43m(\u001b[49m\u001b[43mf\u001b[49m\u001b[43m,\u001b[49m\u001b[43m \u001b[49m\u001b[38;5;28;43mself\u001b[39;49m\u001b[38;5;241;43m.\u001b[39;49m\u001b[43mengine\u001b[49m\u001b[43m)\u001b[49m\n",
      "File \u001b[0;32m/opt/conda/lib/python3.11/site-packages/pandas/io/parsers/readers.py:1898\u001b[0m, in \u001b[0;36mTextFileReader._make_engine\u001b[0;34m(self, f, engine)\u001b[0m\n\u001b[1;32m   1895\u001b[0m     \u001b[38;5;28;01mraise\u001b[39;00m \u001b[38;5;167;01mValueError\u001b[39;00m(msg)\n\u001b[1;32m   1897\u001b[0m \u001b[38;5;28;01mtry\u001b[39;00m:\n\u001b[0;32m-> 1898\u001b[0m     \u001b[38;5;28;01mreturn\u001b[39;00m \u001b[43mmapping\u001b[49m\u001b[43m[\u001b[49m\u001b[43mengine\u001b[49m\u001b[43m]\u001b[49m\u001b[43m(\u001b[49m\u001b[43mf\u001b[49m\u001b[43m,\u001b[49m\u001b[43m \u001b[49m\u001b[38;5;241;43m*\u001b[39;49m\u001b[38;5;241;43m*\u001b[39;49m\u001b[38;5;28;43mself\u001b[39;49m\u001b[38;5;241;43m.\u001b[39;49m\u001b[43moptions\u001b[49m\u001b[43m)\u001b[49m\n\u001b[1;32m   1899\u001b[0m \u001b[38;5;28;01mexcept\u001b[39;00m \u001b[38;5;167;01mException\u001b[39;00m:\n\u001b[1;32m   1900\u001b[0m     \u001b[38;5;28;01mif\u001b[39;00m \u001b[38;5;28mself\u001b[39m\u001b[38;5;241m.\u001b[39mhandles \u001b[38;5;129;01mis\u001b[39;00m \u001b[38;5;129;01mnot\u001b[39;00m \u001b[38;5;28;01mNone\u001b[39;00m:\n",
      "File \u001b[0;32m/opt/conda/lib/python3.11/site-packages/pandas/io/parsers/c_parser_wrapper.py:93\u001b[0m, in \u001b[0;36mCParserWrapper.__init__\u001b[0;34m(self, src, **kwds)\u001b[0m\n\u001b[1;32m     90\u001b[0m \u001b[38;5;28;01mif\u001b[39;00m kwds[\u001b[38;5;124m\"\u001b[39m\u001b[38;5;124mdtype_backend\u001b[39m\u001b[38;5;124m\"\u001b[39m] \u001b[38;5;241m==\u001b[39m \u001b[38;5;124m\"\u001b[39m\u001b[38;5;124mpyarrow\u001b[39m\u001b[38;5;124m\"\u001b[39m:\n\u001b[1;32m     91\u001b[0m     \u001b[38;5;66;03m# Fail here loudly instead of in cython after reading\u001b[39;00m\n\u001b[1;32m     92\u001b[0m     import_optional_dependency(\u001b[38;5;124m\"\u001b[39m\u001b[38;5;124mpyarrow\u001b[39m\u001b[38;5;124m\"\u001b[39m)\n\u001b[0;32m---> 93\u001b[0m \u001b[38;5;28mself\u001b[39m\u001b[38;5;241m.\u001b[39m_reader \u001b[38;5;241m=\u001b[39m \u001b[43mparsers\u001b[49m\u001b[38;5;241;43m.\u001b[39;49m\u001b[43mTextReader\u001b[49m\u001b[43m(\u001b[49m\u001b[43msrc\u001b[49m\u001b[43m,\u001b[49m\u001b[43m \u001b[49m\u001b[38;5;241;43m*\u001b[39;49m\u001b[38;5;241;43m*\u001b[39;49m\u001b[43mkwds\u001b[49m\u001b[43m)\u001b[49m\n\u001b[1;32m     95\u001b[0m \u001b[38;5;28mself\u001b[39m\u001b[38;5;241m.\u001b[39munnamed_cols \u001b[38;5;241m=\u001b[39m \u001b[38;5;28mself\u001b[39m\u001b[38;5;241m.\u001b[39m_reader\u001b[38;5;241m.\u001b[39munnamed_cols\n\u001b[1;32m     97\u001b[0m \u001b[38;5;66;03m# error: Cannot determine type of 'names'\u001b[39;00m\n",
      "File \u001b[0;32mparsers.pyx:574\u001b[0m, in \u001b[0;36mpandas._libs.parsers.TextReader.__cinit__\u001b[0;34m()\u001b[0m\n",
      "File \u001b[0;32mparsers.pyx:663\u001b[0m, in \u001b[0;36mpandas._libs.parsers.TextReader._get_header\u001b[0;34m()\u001b[0m\n",
      "File \u001b[0;32mparsers.pyx:874\u001b[0m, in \u001b[0;36mpandas._libs.parsers.TextReader._tokenize_rows\u001b[0;34m()\u001b[0m\n",
      "File \u001b[0;32mparsers.pyx:891\u001b[0m, in \u001b[0;36mpandas._libs.parsers.TextReader._check_tokenize_status\u001b[0;34m()\u001b[0m\n",
      "File \u001b[0;32mparsers.pyx:2053\u001b[0m, in \u001b[0;36mpandas._libs.parsers.raise_parser_error\u001b[0;34m()\u001b[0m\n",
      "File \u001b[0;32m/opt/conda/lib/python3.11/_compression.py:68\u001b[0m, in \u001b[0;36mDecompressReader.readinto\u001b[0;34m(self, b)\u001b[0m\n\u001b[1;32m     66\u001b[0m \u001b[38;5;28;01mdef\u001b[39;00m \u001b[38;5;21mreadinto\u001b[39m(\u001b[38;5;28mself\u001b[39m, b):\n\u001b[1;32m     67\u001b[0m     \u001b[38;5;28;01mwith\u001b[39;00m \u001b[38;5;28mmemoryview\u001b[39m(b) \u001b[38;5;28;01mas\u001b[39;00m view, view\u001b[38;5;241m.\u001b[39mcast(\u001b[38;5;124m\"\u001b[39m\u001b[38;5;124mB\u001b[39m\u001b[38;5;124m\"\u001b[39m) \u001b[38;5;28;01mas\u001b[39;00m byte_view:\n\u001b[0;32m---> 68\u001b[0m         data \u001b[38;5;241m=\u001b[39m \u001b[38;5;28;43mself\u001b[39;49m\u001b[38;5;241;43m.\u001b[39;49m\u001b[43mread\u001b[49m\u001b[43m(\u001b[49m\u001b[38;5;28;43mlen\u001b[39;49m\u001b[43m(\u001b[49m\u001b[43mbyte_view\u001b[49m\u001b[43m)\u001b[49m\u001b[43m)\u001b[49m\n\u001b[1;32m     69\u001b[0m         byte_view[:\u001b[38;5;28mlen\u001b[39m(data)] \u001b[38;5;241m=\u001b[39m data\n\u001b[1;32m     70\u001b[0m     \u001b[38;5;28;01mreturn\u001b[39;00m \u001b[38;5;28mlen\u001b[39m(data)\n",
      "File \u001b[0;32m/opt/conda/lib/python3.11/gzip.py:499\u001b[0m, in \u001b[0;36m_GzipReader.read\u001b[0;34m(self, size)\u001b[0m\n\u001b[1;32m    495\u001b[0m \u001b[38;5;28;01mif\u001b[39;00m \u001b[38;5;28mself\u001b[39m\u001b[38;5;241m.\u001b[39m_new_member:\n\u001b[1;32m    496\u001b[0m     \u001b[38;5;66;03m# If the _new_member flag is set, we have to\u001b[39;00m\n\u001b[1;32m    497\u001b[0m     \u001b[38;5;66;03m# jump to the next member, if there is one.\u001b[39;00m\n\u001b[1;32m    498\u001b[0m     \u001b[38;5;28mself\u001b[39m\u001b[38;5;241m.\u001b[39m_init_read()\n\u001b[0;32m--> 499\u001b[0m     \u001b[38;5;28;01mif\u001b[39;00m \u001b[38;5;129;01mnot\u001b[39;00m \u001b[38;5;28;43mself\u001b[39;49m\u001b[38;5;241;43m.\u001b[39;49m\u001b[43m_read_gzip_header\u001b[49m\u001b[43m(\u001b[49m\u001b[43m)\u001b[49m:\n\u001b[1;32m    500\u001b[0m         \u001b[38;5;28mself\u001b[39m\u001b[38;5;241m.\u001b[39m_size \u001b[38;5;241m=\u001b[39m \u001b[38;5;28mself\u001b[39m\u001b[38;5;241m.\u001b[39m_pos\n\u001b[1;32m    501\u001b[0m         \u001b[38;5;28;01mreturn\u001b[39;00m \u001b[38;5;124mb\u001b[39m\u001b[38;5;124m\"\u001b[39m\u001b[38;5;124m\"\u001b[39m\n",
      "File \u001b[0;32m/opt/conda/lib/python3.11/gzip.py:468\u001b[0m, in \u001b[0;36m_GzipReader._read_gzip_header\u001b[0;34m(self)\u001b[0m\n\u001b[1;32m    467\u001b[0m \u001b[38;5;28;01mdef\u001b[39;00m \u001b[38;5;21m_read_gzip_header\u001b[39m(\u001b[38;5;28mself\u001b[39m):\n\u001b[0;32m--> 468\u001b[0m     last_mtime \u001b[38;5;241m=\u001b[39m \u001b[43m_read_gzip_header\u001b[49m\u001b[43m(\u001b[49m\u001b[38;5;28;43mself\u001b[39;49m\u001b[38;5;241;43m.\u001b[39;49m\u001b[43m_fp\u001b[49m\u001b[43m)\u001b[49m\n\u001b[1;32m    469\u001b[0m     \u001b[38;5;28;01mif\u001b[39;00m last_mtime \u001b[38;5;129;01mis\u001b[39;00m \u001b[38;5;28;01mNone\u001b[39;00m:\n\u001b[1;32m    470\u001b[0m         \u001b[38;5;28;01mreturn\u001b[39;00m \u001b[38;5;28;01mFalse\u001b[39;00m\n",
      "File \u001b[0;32m/opt/conda/lib/python3.11/gzip.py:428\u001b[0m, in \u001b[0;36m_read_gzip_header\u001b[0;34m(fp)\u001b[0m\n\u001b[1;32m    425\u001b[0m     \u001b[38;5;28;01mreturn\u001b[39;00m \u001b[38;5;28;01mNone\u001b[39;00m\n\u001b[1;32m    427\u001b[0m \u001b[38;5;28;01mif\u001b[39;00m magic \u001b[38;5;241m!=\u001b[39m \u001b[38;5;124mb\u001b[39m\u001b[38;5;124m'\u001b[39m\u001b[38;5;130;01m\\037\u001b[39;00m\u001b[38;5;130;01m\\213\u001b[39;00m\u001b[38;5;124m'\u001b[39m:\n\u001b[0;32m--> 428\u001b[0m     \u001b[38;5;28;01mraise\u001b[39;00m BadGzipFile(\u001b[38;5;124m'\u001b[39m\u001b[38;5;124mNot a gzipped file (\u001b[39m\u001b[38;5;132;01m%r\u001b[39;00m\u001b[38;5;124m)\u001b[39m\u001b[38;5;124m'\u001b[39m \u001b[38;5;241m%\u001b[39m magic)\n\u001b[1;32m    430\u001b[0m (method, flag, last_mtime) \u001b[38;5;241m=\u001b[39m struct\u001b[38;5;241m.\u001b[39munpack(\u001b[38;5;124m\"\u001b[39m\u001b[38;5;124m<BBIxx\u001b[39m\u001b[38;5;124m\"\u001b[39m, _read_exact(fp, \u001b[38;5;241m8\u001b[39m))\n\u001b[1;32m    431\u001b[0m \u001b[38;5;28;01mif\u001b[39;00m method \u001b[38;5;241m!=\u001b[39m \u001b[38;5;241m8\u001b[39m:\n",
      "\u001b[0;31mBadGzipFile\u001b[0m: Not a gzipped file (b've')"
     ]
    }
   ],
   "source": [
    "reviews = pd.read_csv(\"data/reviews.csv.gz\")\n",
    "reviews.head() #Loaded successfully"
   ]
  },
  {
   "cell_type": "code",
   "execution_count": null,
   "id": "0e2aba06-5da8-4789-a60d-5cc82736049c",
   "metadata": {},
   "outputs": [],
   "source": [
    "#Sorting data type\n",
    "print(\"Data types before transformation:\")\n",
    "print(reviews.info())\n",
    "#Looks like the date column is a string (e.g. \"2010-08-18\")- let's turn this into a datetime64 series\n",
    "reviews[\"date\"] = pd.to_datetime(reviews[\"date\"], format=\"%Y-%m-%d\")\n",
    "#Other data types look okay\n",
    "\n",
    "print(\"\\nData types after transformation:\")\n",
    "reviews.info()"
   ]
  },
  {
   "cell_type": "code",
   "execution_count": null,
   "id": "d84a33b9-c5ce-44f7-a12e-673b08bda47f",
   "metadata": {},
   "outputs": [],
   "source": [
    "#Splitting dates for last 24 months\n",
    "print(f\"Latest review date: {reviews.date.max()}.\")\n",
    "max_date = reviews.date.max()\n",
    "cutoff_2023 = max_date.replace(year=max_date.year - 1)\n",
    "cutoff_date = max_date.replace(year=max_date.year - 2)\n",
    "print(f\"This means the cutoff date for reviews is: {cutoff_date}.\")\n",
    "\n",
    "#Filter for only reviews from the last 24 months\n",
    "reviews = reviews[reviews[\"date\"] > cutoff_date]\n",
    "\n",
    "#Add column with year data (ChatGPT helped)\n",
    "reviews[\"year\"] = pd.cut(reviews[\"date\"],\n",
    "                        bins=[cutoff_date, cutoff_2023, max_date],\n",
    "                        labels=[\"2022-2023\", \"2023-2024\"],\n",
    "                        right=True)"
   ]
  },
  {
   "cell_type": "code",
   "execution_count": null,
   "id": "99003933-2af9-4468-b575-214cd5344dfe",
   "metadata": {},
   "outputs": [],
   "source": [
    "#Checking this\n",
    "reviews.sample(10) #Looks good"
   ]
  },
  {
   "cell_type": "code",
   "execution_count": null,
   "id": "de7902c8-3fcd-4cf0-960a-66d77d3fed6a",
   "metadata": {},
   "outputs": [],
   "source": [
    "#Do any have null values?\n",
    "reviews[reviews.year.isna()] #No - looks like transformation went well"
   ]
  },
  {
   "cell_type": "code",
   "execution_count": null,
   "id": "159c0a41-229e-4781-8c55-d8fe4dbc6ba3",
   "metadata": {},
   "outputs": [],
   "source": [
    "#Look for nulls\n",
    "reviews.count() #some have no comments, one has no reviewer name"
   ]
  },
  {
   "cell_type": "code",
   "execution_count": null,
   "id": "fcbc6e22-7828-4da6-a1bc-8c263ef7f071",
   "metadata": {},
   "outputs": [],
   "source": [
    "#Row with no reviewer name:\n",
    "reviews[reviews.reviewer_name.isna()] #Looks fine"
   ]
  },
  {
   "cell_type": "code",
   "execution_count": null,
   "id": "689abd04-607f-4da0-be64-de611f1896c9",
   "metadata": {},
   "outputs": [],
   "source": [
    "#Rows with no comments\n",
    "reviews[reviews.comments.isna()] #presume these are also fine to keep as people will leave scores; so it's not weird behaviour\n",
    "#we will be looking at counts anyway, rather than review content"
   ]
  },
  {
   "cell_type": "code",
   "execution_count": null,
   "id": "2d97d395-24a9-4b5d-a54c-26025312934a",
   "metadata": {},
   "outputs": [],
   "source": [
    "#Check for any listings with unrealistic review counts\n",
    "print(\"Review count per listing (over 731 days):\")\n",
    "print(reviews.groupby('listing_id').size().describe())\n",
    "#some listings with only 1, some with over 890 - more than 1 per day!!\n",
    "\n",
    "#Not going to remove this more as we'll consider this more robustly when calculating occupancy metrics\n",
    "print(f\"\\nNumber of listings with more than 731 reviews: {(reviews.groupby('listing_id').size() > 731).sum()} - this is impossible!\")\n",
    "print(f\"Number of listings with more than 365 reviews: {(reviews.groupby('listing_id').size() > 365).sum()} - apparently 1 every 2 days\")\n",
    "print(f\"Number of listings with more than 243 reviews: {(reviews.groupby('listing_id').size() > 365).sum()} - apparently 1 every 3 days\")\n",
    "\n",
    "print(\"\\nListing with most reviews:\")\n",
    "reviews[reviews.listing_id==reviews.groupby('listing_id').size().idxmax()]\n",
    "#Looks like a big hotel - though odd that it has the same listing_id"
   ]
  },
  {
   "cell_type": "markdown",
   "id": "a4cc084b-433c-45ce-9e2d-b4b74d0371e0",
   "metadata": {},
   "source": [
    "Listing with most reviews over this period is a [hotel](https://www.airbnb.co.uk/rooms/47408549?source_impression_id=p3_1732634604_P3_JbW_THpmpjHlw) - same listing can be rented out by multiple people at once."
   ]
  },
  {
   "cell_type": "code",
   "execution_count": null,
   "id": "2d933d31-b583-4693-9e6c-dfb4ffc050b3",
   "metadata": {},
   "outputs": [],
   "source": [
    "#Check for duplicates\n",
    "reviews[reviews.duplicated(keep=False)] #no exact duplicates"
   ]
  },
  {
   "cell_type": "code",
   "execution_count": null,
   "id": "c693ae59-84bc-47ec-b53b-a94f75b190e8",
   "metadata": {},
   "outputs": [],
   "source": [
    "#Have any individuals commented on the same listing twice?\n",
    "print(\"Some individuals have reviewed the same listing more than once:\")\n",
    "multiple_reviews = reviews.groupby(['reviewer_id', 'listing_id']).size().reset_index(name='reviews_per_commenter').query('reviews_per_commenter > 1').sort_values(by='reviews_per_commenter', ascending=False)\n",
    "print(f\"\\nMean number of multiple reviews: {multiple_reviews.reviews_per_commenter.mean():.2f}\\n\")\n",
    "multiple_reviews #Lots of situations where the same reviewer has commented on the same listing\n",
    "\n",
    "#Have looked into this manually and actually it looks fairly realistic: friendships forming between hosts and holidays\n",
    "#One individual stayed at the same property 38 times in 2 years which seems excessive\n",
    "#But they do genuinely seem to be friends\n",
    "\n",
    "#And the mean is fairly low - not too many multiples"
   ]
  },
  {
   "cell_type": "code",
   "execution_count": null,
   "id": "7da3d25e-7dda-48c1-b06f-36f23561ac2a",
   "metadata": {},
   "outputs": [],
   "source": [
    "#Are different people (e.g. business owners) deliberately doing this? Or is it the same people consistently doing this?\n",
    "multiple_reviews.groupby('reviewer_id').size().sort_values(ascending=False)\n",
    "#Looked into some of these manually and they look okay - probably just people who travel a lot"
   ]
  },
  {
   "cell_type": "code",
   "execution_count": null,
   "id": "d4688659-46b3-4a13-a878-756533c4baff",
   "metadata": {},
   "outputs": [],
   "source": [
    "#Has the same person left multiple reviews on the same day?\n",
    "unlikely_reviews = reviews.groupby(['reviewer_id', 'date']).size().reset_index(name='reviews_on_day').query('reviews_on_day > 1').sort_values(by='reviews_on_day', ascending=False)\n",
    "unlikely_reviews\n",
    "#This has happened 1142 times!"
   ]
  },
  {
   "cell_type": "code",
   "execution_count": null,
   "id": "c1d90c5e-2922-4a7f-be11-7b7aa0045609",
   "metadata": {},
   "outputs": [],
   "source": [
    "#Some manual checking\n",
    "pd.set_option('display.max_colwidth', None)\n",
    "#Checked the top two and bottom 1 manually - they all look realistic actually\n",
    "#reviews[\n",
    "#    (reviews.reviewer_id==113858886) &\n",
    "#    (reviews.date==\"2022-11-13\")\n",
    "#]\n",
    "pd.reset_option('display.max_colwidth')"
   ]
  },
  {
   "cell_type": "code",
   "execution_count": null,
   "id": "850f939d-146b-443f-a60d-cffdcce166b5",
   "metadata": {},
   "outputs": [],
   "source": [
    "#Drop unneccessary columns: date, ...\n",
    "reviews.drop(columns = [\"id\", \"date\", \"reviewer_name\", \"comments\"], inplace=True)\n",
    "reviews.head()"
   ]
  },
  {
   "cell_type": "code",
   "execution_count": null,
   "id": "cf12748c-9c6c-4785-8a09-49cae9f6fc95",
   "metadata": {},
   "outputs": [],
   "source": [
    "#Output it to data folder\n",
    "reviews.to_csv(\"data/reviews_provisional.csv\", index=False)"
   ]
  },
  {
   "cell_type": "markdown",
   "id": "e59111f4-404e-4b5d-93a2-a220e0a8f7f8",
   "metadata": {},
   "source": [
    "## Moving on to cleaning listings.csv"
   ]
  },
  {
   "cell_type": "code",
   "execution_count": 109,
   "id": "4f5c8a7a-8dc7-4738-addd-8e9c97627d0f",
   "metadata": {},
   "outputs": [
    {
     "name": "stdout",
     "output_type": "stream",
     "text": [
      "The listings dataset is 96182 rows x 75 columns.\n"
     ]
    },
    {
     "data": {
      "text/html": [
       "<div>\n",
       "<style scoped>\n",
       "    .dataframe tbody tr th:only-of-type {\n",
       "        vertical-align: middle;\n",
       "    }\n",
       "\n",
       "    .dataframe tbody tr th {\n",
       "        vertical-align: top;\n",
       "    }\n",
       "\n",
       "    .dataframe thead th {\n",
       "        text-align: right;\n",
       "    }\n",
       "</style>\n",
       "<table border=\"1\" class=\"dataframe\">\n",
       "  <thead>\n",
       "    <tr style=\"text-align: right;\">\n",
       "      <th></th>\n",
       "      <th>id</th>\n",
       "      <th>listing_url</th>\n",
       "      <th>scrape_id</th>\n",
       "      <th>last_scraped</th>\n",
       "      <th>source</th>\n",
       "      <th>name</th>\n",
       "      <th>description</th>\n",
       "      <th>neighborhood_overview</th>\n",
       "      <th>picture_url</th>\n",
       "      <th>host_id</th>\n",
       "      <th>...</th>\n",
       "      <th>review_scores_communication</th>\n",
       "      <th>review_scores_location</th>\n",
       "      <th>review_scores_value</th>\n",
       "      <th>license</th>\n",
       "      <th>instant_bookable</th>\n",
       "      <th>calculated_host_listings_count</th>\n",
       "      <th>calculated_host_listings_count_entire_homes</th>\n",
       "      <th>calculated_host_listings_count_private_rooms</th>\n",
       "      <th>calculated_host_listings_count_shared_rooms</th>\n",
       "      <th>reviews_per_month</th>\n",
       "    </tr>\n",
       "  </thead>\n",
       "  <tbody>\n",
       "    <tr>\n",
       "      <th>0</th>\n",
       "      <td>13913</td>\n",
       "      <td>https://www.airbnb.com/rooms/13913</td>\n",
       "      <td>20240906025501</td>\n",
       "      <td>2024-09-06</td>\n",
       "      <td>city scrape</td>\n",
       "      <td>Holiday London DB Room Let-on going</td>\n",
       "      <td>My bright double bedroom with a large window h...</td>\n",
       "      <td>Finsbury Park is a friendly melting pot commun...</td>\n",
       "      <td>https://a0.muscache.com/pictures/miso/Hosting-...</td>\n",
       "      <td>54730</td>\n",
       "      <td>...</td>\n",
       "      <td>4.84</td>\n",
       "      <td>4.72</td>\n",
       "      <td>4.72</td>\n",
       "      <td>NaN</td>\n",
       "      <td>f</td>\n",
       "      <td>3</td>\n",
       "      <td>2</td>\n",
       "      <td>1</td>\n",
       "      <td>0</td>\n",
       "      <td>0.26</td>\n",
       "    </tr>\n",
       "    <tr>\n",
       "      <th>1</th>\n",
       "      <td>15400</td>\n",
       "      <td>https://www.airbnb.com/rooms/15400</td>\n",
       "      <td>20240906025501</td>\n",
       "      <td>2024-09-07</td>\n",
       "      <td>city scrape</td>\n",
       "      <td>Bright Chelsea  Apartment. Chelsea!</td>\n",
       "      <td>Lots of windows and light.  St Luke's Gardens ...</td>\n",
       "      <td>It is Chelsea.</td>\n",
       "      <td>https://a0.muscache.com/pictures/428392/462d26...</td>\n",
       "      <td>60302</td>\n",
       "      <td>...</td>\n",
       "      <td>4.84</td>\n",
       "      <td>4.93</td>\n",
       "      <td>4.75</td>\n",
       "      <td>NaN</td>\n",
       "      <td>f</td>\n",
       "      <td>1</td>\n",
       "      <td>1</td>\n",
       "      <td>0</td>\n",
       "      <td>0</td>\n",
       "      <td>0.54</td>\n",
       "    </tr>\n",
       "    <tr>\n",
       "      <th>2</th>\n",
       "      <td>17402</td>\n",
       "      <td>https://www.airbnb.com/rooms/17402</td>\n",
       "      <td>20240906025501</td>\n",
       "      <td>2024-09-07</td>\n",
       "      <td>city scrape</td>\n",
       "      <td>Fab 3-Bed/2 Bath &amp; Wifi: Trendy W1</td>\n",
       "      <td>You'll have a great time in this beautiful, cl...</td>\n",
       "      <td>Fitzrovia is a very desirable trendy, arty and...</td>\n",
       "      <td>https://a0.muscache.com/pictures/39d5309d-fba7...</td>\n",
       "      <td>67564</td>\n",
       "      <td>...</td>\n",
       "      <td>4.72</td>\n",
       "      <td>4.89</td>\n",
       "      <td>4.61</td>\n",
       "      <td>NaN</td>\n",
       "      <td>f</td>\n",
       "      <td>6</td>\n",
       "      <td>6</td>\n",
       "      <td>0</td>\n",
       "      <td>0</td>\n",
       "      <td>0.34</td>\n",
       "    </tr>\n",
       "    <tr>\n",
       "      <th>3</th>\n",
       "      <td>24328</td>\n",
       "      <td>https://www.airbnb.com/rooms/24328</td>\n",
       "      <td>20240906025501</td>\n",
       "      <td>2024-09-07</td>\n",
       "      <td>city scrape</td>\n",
       "      <td>Battersea live/work artist house, garden &amp; par...</td>\n",
       "      <td>Artist house, bright high ceiling rooms for bo...</td>\n",
       "      <td>- Battersea is a quiet family area, easy acces...</td>\n",
       "      <td>https://a0.muscache.com/pictures/9194b40f-c627...</td>\n",
       "      <td>41759</td>\n",
       "      <td>...</td>\n",
       "      <td>4.93</td>\n",
       "      <td>4.59</td>\n",
       "      <td>4.65</td>\n",
       "      <td>NaN</td>\n",
       "      <td>f</td>\n",
       "      <td>1</td>\n",
       "      <td>1</td>\n",
       "      <td>0</td>\n",
       "      <td>0</td>\n",
       "      <td>0.56</td>\n",
       "    </tr>\n",
       "    <tr>\n",
       "      <th>4</th>\n",
       "      <td>33332</td>\n",
       "      <td>https://www.airbnb.com/rooms/33332</td>\n",
       "      <td>20240906025501</td>\n",
       "      <td>2024-09-06</td>\n",
       "      <td>city scrape</td>\n",
       "      <td>Beautiful Ensuite Richmond-upon-Thames borough</td>\n",
       "      <td>Walking distance to Twickenham Stadium, 35 min...</td>\n",
       "      <td>Peaceful and friendly.</td>\n",
       "      <td>https://a0.muscache.com/pictures/miso/Hosting-...</td>\n",
       "      <td>144444</td>\n",
       "      <td>...</td>\n",
       "      <td>4.50</td>\n",
       "      <td>4.67</td>\n",
       "      <td>4.22</td>\n",
       "      <td>NaN</td>\n",
       "      <td>f</td>\n",
       "      <td>2</td>\n",
       "      <td>0</td>\n",
       "      <td>2</td>\n",
       "      <td>0</td>\n",
       "      <td>0.11</td>\n",
       "    </tr>\n",
       "  </tbody>\n",
       "</table>\n",
       "<p>5 rows × 75 columns</p>\n",
       "</div>"
      ],
      "text/plain": [
       "      id                         listing_url       scrape_id last_scraped  \\\n",
       "0  13913  https://www.airbnb.com/rooms/13913  20240906025501   2024-09-06   \n",
       "1  15400  https://www.airbnb.com/rooms/15400  20240906025501   2024-09-07   \n",
       "2  17402  https://www.airbnb.com/rooms/17402  20240906025501   2024-09-07   \n",
       "3  24328  https://www.airbnb.com/rooms/24328  20240906025501   2024-09-07   \n",
       "4  33332  https://www.airbnb.com/rooms/33332  20240906025501   2024-09-06   \n",
       "\n",
       "        source                                               name  \\\n",
       "0  city scrape                Holiday London DB Room Let-on going   \n",
       "1  city scrape                Bright Chelsea  Apartment. Chelsea!   \n",
       "2  city scrape                 Fab 3-Bed/2 Bath & Wifi: Trendy W1   \n",
       "3  city scrape  Battersea live/work artist house, garden & par...   \n",
       "4  city scrape     Beautiful Ensuite Richmond-upon-Thames borough   \n",
       "\n",
       "                                         description  \\\n",
       "0  My bright double bedroom with a large window h...   \n",
       "1  Lots of windows and light.  St Luke's Gardens ...   \n",
       "2  You'll have a great time in this beautiful, cl...   \n",
       "3  Artist house, bright high ceiling rooms for bo...   \n",
       "4  Walking distance to Twickenham Stadium, 35 min...   \n",
       "\n",
       "                               neighborhood_overview  \\\n",
       "0  Finsbury Park is a friendly melting pot commun...   \n",
       "1                                     It is Chelsea.   \n",
       "2  Fitzrovia is a very desirable trendy, arty and...   \n",
       "3  - Battersea is a quiet family area, easy acces...   \n",
       "4                             Peaceful and friendly.   \n",
       "\n",
       "                                         picture_url  host_id  ...  \\\n",
       "0  https://a0.muscache.com/pictures/miso/Hosting-...    54730  ...   \n",
       "1  https://a0.muscache.com/pictures/428392/462d26...    60302  ...   \n",
       "2  https://a0.muscache.com/pictures/39d5309d-fba7...    67564  ...   \n",
       "3  https://a0.muscache.com/pictures/9194b40f-c627...    41759  ...   \n",
       "4  https://a0.muscache.com/pictures/miso/Hosting-...   144444  ...   \n",
       "\n",
       "  review_scores_communication review_scores_location review_scores_value  \\\n",
       "0                        4.84                   4.72                4.72   \n",
       "1                        4.84                   4.93                4.75   \n",
       "2                        4.72                   4.89                4.61   \n",
       "3                        4.93                   4.59                4.65   \n",
       "4                        4.50                   4.67                4.22   \n",
       "\n",
       "  license instant_bookable calculated_host_listings_count  \\\n",
       "0     NaN                f                              3   \n",
       "1     NaN                f                              1   \n",
       "2     NaN                f                              6   \n",
       "3     NaN                f                              1   \n",
       "4     NaN                f                              2   \n",
       "\n",
       "  calculated_host_listings_count_entire_homes  \\\n",
       "0                                           2   \n",
       "1                                           1   \n",
       "2                                           6   \n",
       "3                                           1   \n",
       "4                                           0   \n",
       "\n",
       "  calculated_host_listings_count_private_rooms  \\\n",
       "0                                            1   \n",
       "1                                            0   \n",
       "2                                            0   \n",
       "3                                            0   \n",
       "4                                            2   \n",
       "\n",
       "  calculated_host_listings_count_shared_rooms reviews_per_month  \n",
       "0                                           0              0.26  \n",
       "1                                           0              0.54  \n",
       "2                                           0              0.34  \n",
       "3                                           0              0.56  \n",
       "4                                           0              0.11  \n",
       "\n",
       "[5 rows x 75 columns]"
      ]
     },
     "execution_count": 109,
     "metadata": {},
     "output_type": "execute_result"
    }
   ],
   "source": [
    "# Reading in listings csv\n",
    "listings_raw = pd.read_csv(\"data/listings.csv.gz\")\n",
    "print(f\"The listings dataset is {listings_raw.shape[0]} rows x {listings_raw.shape[1]} columns.\")\n",
    "\n",
    "# Taking a peek\n",
    "listings_raw.head(n=5)"
   ]
  },
  {
   "cell_type": "code",
   "execution_count": 4,
   "id": "c612d901-19c1-4953-925f-a5220a406011",
   "metadata": {},
   "outputs": [
    {
     "name": "stdout",
     "output_type": "stream",
     "text": [
      "['id', 'listing_url', 'scrape_id', 'last_scraped', 'source', 'name', 'description', 'neighborhood_overview', 'picture_url', 'host_id', 'host_url', 'host_name', 'host_since', 'host_location', 'host_about', 'host_response_time', 'host_response_rate', 'host_acceptance_rate', 'host_is_superhost', 'host_thumbnail_url', 'host_picture_url', 'host_neighbourhood', 'host_listings_count', 'host_total_listings_count', 'host_verifications', 'host_has_profile_pic', 'host_identity_verified', 'neighbourhood', 'neighbourhood_cleansed', 'neighbourhood_group_cleansed', 'latitude', 'longitude', 'property_type', 'room_type', 'accommodates', 'bathrooms', 'bathrooms_text', 'bedrooms', 'beds', 'amenities', 'price', 'minimum_nights', 'maximum_nights', 'minimum_minimum_nights', 'maximum_minimum_nights', 'minimum_maximum_nights', 'maximum_maximum_nights', 'minimum_nights_avg_ntm', 'maximum_nights_avg_ntm', 'calendar_updated', 'has_availability', 'availability_30', 'availability_60', 'availability_90', 'availability_365', 'calendar_last_scraped', 'number_of_reviews', 'number_of_reviews_ltm', 'number_of_reviews_l30d', 'first_review', 'last_review', 'review_scores_rating', 'review_scores_accuracy', 'review_scores_cleanliness', 'review_scores_checkin', 'review_scores_communication', 'review_scores_location', 'review_scores_value', 'license', 'instant_bookable', 'calculated_host_listings_count', 'calculated_host_listings_count_entire_homes', 'calculated_host_listings_count_private_rooms', 'calculated_host_listings_count_shared_rooms', 'reviews_per_month']\n"
     ]
    }
   ],
   "source": [
    "# Looking at column names\n",
    "print(listings_raw.columns.to_list())"
   ]
  },
  {
   "cell_type": "code",
   "execution_count": 118,
   "id": "bd68d287-046f-4d9e-9233-55c81be50bbd",
   "metadata": {},
   "outputs": [
    {
     "name": "stdout",
     "output_type": "stream",
     "text": [
      "0\n",
      "After dropping 22 less relevant columns, the listings dataset is 96182 rows x 53 columns.\n"
     ]
    }
   ],
   "source": [
    "# Setting aside some columns that don't seem useful for analysis\n",
    "# Including NaN-only columns like 'license' and 'neighbourhood_group_cleansed'.\n",
    "exclude_cols = ['scrape_id', 'source', 'picture_url', 'host_url', \n",
    "                'host_response_time', 'host_response_rate', 'host_thumbnail_url', \n",
    "                'host_picture_url', 'host_has_profile_pic', 'neighbourhood', \n",
    "                'neighbourhood_group_cleansed', 'calendar_last_scraped', \n",
    "                'calendar_updated', 'has_availability', 'minimum_minimum_nights', \n",
    "                'maximum_maximum_nights', 'minimum_maximum_nights', \n",
    "                'maximum_minimum_nights', 'minimum_nights_avg_ntm', 'maximum_nights_avg_ntm',\n",
    "                'license', 'instant_bookable', ]\n",
    "\n",
    "# Also checking for duplicate rows\n",
    "duplicate_count = listings_raw.duplicated().sum()\n",
    "print(duplicate_count) # Great, there are none\n",
    "\n",
    "# Dropping these columns from listings_raw\n",
    "listings = listings_raw.drop(columns = exclude_cols)\n",
    "print(f\"After dropping {len(exclude_cols)} less relevant columns, the listings dataset is {listings.shape[0]} rows x {listings.shape[1]} columns.\")"
   ]
  },
  {
   "cell_type": "code",
   "execution_count": 6,
   "id": "3b8453f4-b091-47a2-bff1-295ee914e7d6",
   "metadata": {},
   "outputs": [
    {
     "name": "stdout",
     "output_type": "stream",
     "text": [
      "<class 'pandas.core.frame.DataFrame'>\n",
      "RangeIndex: 96182 entries, 0 to 96181\n",
      "Data columns (total 53 columns):\n",
      " #   Column                                        Non-Null Count  Dtype  \n",
      "---  ------                                        --------------  -----  \n",
      " 0   id                                            96182 non-null  int64  \n",
      " 1   listing_url                                   96182 non-null  object \n",
      " 2   last_scraped                                  96182 non-null  object \n",
      " 3   name                                          96182 non-null  object \n",
      " 4   description                                   92763 non-null  object \n",
      " 5   neighborhood_overview                         45661 non-null  object \n",
      " 6   host_id                                       96182 non-null  int64  \n",
      " 7   host_name                                     96177 non-null  object \n",
      " 8   host_since                                    96177 non-null  object \n",
      " 9   host_location                                 73913 non-null  object \n",
      " 10  host_about                                    49035 non-null  object \n",
      " 11  host_acceptance_rate                          68956 non-null  object \n",
      " 12  host_is_superhost                             94694 non-null  object \n",
      " 13  host_neighbourhood                            47625 non-null  object \n",
      " 14  host_listings_count                           96177 non-null  float64\n",
      " 15  host_total_listings_count                     96177 non-null  float64\n",
      " 16  host_verifications                            96177 non-null  object \n",
      " 17  host_identity_verified                        96177 non-null  object \n",
      " 18  neighbourhood_cleansed                        96182 non-null  object \n",
      " 19  latitude                                      96182 non-null  float64\n",
      " 20  longitude                                     96182 non-null  float64\n",
      " 21  property_type                                 96182 non-null  object \n",
      " 22  room_type                                     96182 non-null  object \n",
      " 23  accommodates                                  96182 non-null  int64  \n",
      " 24  bathrooms                                     63145 non-null  float64\n",
      " 25  bathrooms_text                                96026 non-null  object \n",
      " 26  bedrooms                                      83530 non-null  float64\n",
      " 27  beds                                          63041 non-null  float64\n",
      " 28  amenities                                     96182 non-null  object \n",
      " 29  price                                         63205 non-null  object \n",
      " 30  minimum_nights                                96182 non-null  int64  \n",
      " 31  maximum_nights                                96182 non-null  int64  \n",
      " 32  availability_30                               96182 non-null  int64  \n",
      " 33  availability_60                               96182 non-null  int64  \n",
      " 34  availability_90                               96182 non-null  int64  \n",
      " 35  availability_365                              96182 non-null  int64  \n",
      " 36  number_of_reviews                             96182 non-null  int64  \n",
      " 37  number_of_reviews_ltm                         96182 non-null  int64  \n",
      " 38  number_of_reviews_l30d                        96182 non-null  int64  \n",
      " 39  first_review                                  71649 non-null  object \n",
      " 40  last_review                                   71649 non-null  object \n",
      " 41  review_scores_rating                          71649 non-null  float64\n",
      " 42  review_scores_accuracy                        71631 non-null  float64\n",
      " 43  review_scores_cleanliness                     71639 non-null  float64\n",
      " 44  review_scores_checkin                         71599 non-null  float64\n",
      " 45  review_scores_communication                   71625 non-null  float64\n",
      " 46  review_scores_location                        71598 non-null  float64\n",
      " 47  review_scores_value                           71599 non-null  float64\n",
      " 48  calculated_host_listings_count                96182 non-null  int64  \n",
      " 49  calculated_host_listings_count_entire_homes   96182 non-null  int64  \n",
      " 50  calculated_host_listings_count_private_rooms  96182 non-null  int64  \n",
      " 51  calculated_host_listings_count_shared_rooms   96182 non-null  int64  \n",
      " 52  reviews_per_month                             71649 non-null  float64\n",
      "dtypes: float64(15), int64(16), object(22)\n",
      "memory usage: 38.9+ MB\n"
     ]
    }
   ],
   "source": [
    "# Looking at listings columns and data types\n",
    "listings.info(verbose = True)"
   ]
  },
  {
   "cell_type": "code",
   "execution_count": 19,
   "id": "6678f9e9-a63e-4fe7-a558-c6b7f2fbad10",
   "metadata": {},
   "outputs": [
    {
     "data": {
      "text/plain": [
       "neighborhood_overview                           50521\n",
       "host_neighbourhood                              48557\n",
       "host_about                                      47147\n",
       "beds                                            33141\n",
       "bathrooms                                       33037\n",
       "price                                           32977\n",
       "host_acceptance_rate                            27226\n",
       "review_scores_location                          24584\n",
       "review_scores_value                             24583\n",
       "review_scores_checkin                           24583\n",
       "review_scores_communication                     24557\n",
       "review_scores_accuracy                          24551\n",
       "review_scores_cleanliness                       24543\n",
       "first_review                                    24533\n",
       "reviews_per_month                               24533\n",
       "last_review                                     24533\n",
       "review_scores_rating                            24533\n",
       "host_location                                   22269\n",
       "bedrooms                                        12652\n",
       "description                                      3419\n",
       "host_is_superhost                                1488\n",
       "bathrooms_text                                    156\n",
       "host_total_listings_count                           5\n",
       "host_verifications                                  5\n",
       "host_listings_count                                 5\n",
       "host_since                                          5\n",
       "host_name                                           5\n",
       "host_identity_verified                              5\n",
       "host_id                                             0\n",
       "latitude                                            0\n",
       "number_of_reviews_l30d                              0\n",
       "last_scraped                                        0\n",
       "calculated_host_listings_count                      0\n",
       "calculated_host_listings_count_entire_homes         0\n",
       "calculated_host_listings_count_private_rooms        0\n",
       "calculated_host_listings_count_shared_rooms         0\n",
       "name                                                0\n",
       "number_of_reviews                                   0\n",
       "number_of_reviews_ltm                               0\n",
       "longitude                                           0\n",
       "availability_365                                    0\n",
       "availability_90                                     0\n",
       "availability_60                                     0\n",
       "availability_30                                     0\n",
       "maximum_nights                                      0\n",
       "minimum_nights                                      0\n",
       "amenities                                           0\n",
       "listing_url                                         0\n",
       "neighbourhood_cleansed                              0\n",
       "accommodates                                        0\n",
       "room_type                                           0\n",
       "property_type                                       0\n",
       "id                                                  0\n",
       "dtype: int64"
      ]
     },
     "execution_count": 19,
     "metadata": {},
     "output_type": "execute_result"
    }
   ],
   "source": [
    "# Viewing null counts by row\n",
    "listings.isnull().sum(axis=0).sort_values(ascending=False)"
   ]
  },
  {
   "cell_type": "code",
   "execution_count": 130,
   "id": "7b0273dc-dfdf-4869-8948-c172f35b092d",
   "metadata": {},
   "outputs": [
    {
     "data": {
      "text/plain": [
       "85179    1\n",
       "79759    0\n",
       "42857    7\n",
       "Name: calculated_host_listings_count_entire_homes, dtype: int64"
      ]
     },
     "execution_count": 130,
     "metadata": {},
     "output_type": "execute_result"
    }
   ],
   "source": [
    "# I've used this cell as a tester cell to see what some of these variables look like.\n",
    "# Based on this, I'm dropping more columns that don't seem useful.\n",
    "listings['calculated_host_listings_count_entire_homes'].sample(3)"
   ]
  },
  {
   "cell_type": "code",
   "execution_count": 136,
   "id": "2700ebc5-9eeb-4746-bfbf-1eb25656784c",
   "metadata": {},
   "outputs": [
    {
     "name": "stdout",
     "output_type": "stream",
     "text": [
      "listings now has 96182 rows x 37 columns.\n"
     ]
    }
   ],
   "source": [
    "listings.drop(columns = ['description','neighborhood_overview', 'host_neighbourhood', 'host_about',\n",
    "                      'beds', 'bathrooms', 'host_acceptance_rate', 'review_scores_location',\n",
    "                      'review_scores_value', 'review_scores_checkin', 'review_scores_communication',\n",
    "                      'review_scores_accuracy', 'review_scores_cleanliness', 'host_location',\n",
    "                      'bedrooms', 'bathrooms_text'], inplace = True)\n",
    "print(f\"listings now has {listings.shape[0]} rows x {listings.shape[1]} columns.\")"
   ]
  },
  {
   "cell_type": "markdown",
   "id": "a105c994-0cf3-444b-af68-4bef949d4249",
   "metadata": {},
   "source": [
    "### Converting data types appropriately"
   ]
  },
  {
   "cell_type": "code",
   "execution_count": 99,
   "id": "9ac153ea-6c56-463b-8102-283cb9be48f6",
   "metadata": {},
   "outputs": [
    {
     "name": "stdout",
     "output_type": "stream",
     "text": [
      "Before converting, 'host_is_superhost' is of type object.\n",
      "Converting host_is_superhost\n",
      "Converting host_identity_verified\n"
     ]
    }
   ],
   "source": [
    "# Converting true/false-response columns from string to Boolean\n",
    "bools = ['host_is_superhost', 'host_identity_verified']\n",
    "print(f\"Before converting, 'host_is_superhost' is of type {listings['host_is_superhost'].dtype}.\")\n",
    "\n",
    "\n",
    "for b in bools:\n",
    "    print(f\"Converting {b}\")\n",
    "    listings[b] = listings[b].replace({'f':False, 't':True}).astype('bool')\n"
   ]
  },
  {
   "cell_type": "code",
   "execution_count": 100,
   "id": "13b87a11-b06e-4e57-bccd-46eaf765359f",
   "metadata": {},
   "outputs": [
    {
     "name": "stdout",
     "output_type": "stream",
     "text": [
      "After converting, 'host_is_superhost' is of type bool.\n"
     ]
    },
    {
     "data": {
      "text/plain": [
       "83338    True\n",
       "28887    True\n",
       "7621     True\n",
       "Name: host_identity_verified, dtype: bool"
      ]
     },
     "execution_count": 100,
     "metadata": {},
     "output_type": "execute_result"
    }
   ],
   "source": [
    "# Checking to see if it worked\n",
    "print(f\"After converting, 'host_is_superhost' is of type {listings['host_is_superhost'].dtype}.\")\n",
    "listings['host_identity_verified'].sample(3)"
   ]
  },
  {
   "cell_type": "code",
   "execution_count": 102,
   "id": "1a5ac55e-8559-4223-b05a-db0caa28abc2",
   "metadata": {},
   "outputs": [
    {
     "name": "stdout",
     "output_type": "stream",
     "text": [
      "Before converting, 'host_since' is of type datetime64[ns].\n",
      "\n",
      "Converting host_since\n",
      "Converting first_review\n",
      "Converting last_review\n"
     ]
    }
   ],
   "source": [
    "# Converting date-response columns to date type\n",
    "dates = ['host_since','first_review','last_review']\n",
    "print(f\"Before converting, 'host_since' is of type {listings['host_since'].dtype}.\\n\")\n",
    "\n",
    "for d in dates:\n",
    "    print(\"Converting \" + d)\n",
    "    listings[d] = pd.to_datetime(listings[d])\n",
    "    "
   ]
  },
  {
   "cell_type": "code",
   "execution_count": 103,
   "id": "46259dd5-37c5-447a-9bfb-6ca01a6068ce",
   "metadata": {},
   "outputs": [
    {
     "name": "stdout",
     "output_type": "stream",
     "text": [
      "After converting, 'host_since' is of type datetime64[ns].\n",
      "\n"
     ]
    },
    {
     "data": {
      "text/plain": [
       "19095   2018-01-02\n",
       "87017          NaT\n",
       "19368   2017-11-22\n",
       "Name: first_review, dtype: datetime64[ns]"
      ]
     },
     "execution_count": 103,
     "metadata": {},
     "output_type": "execute_result"
    }
   ],
   "source": [
    "# Checking to see if it worked\n",
    "print(f\"After converting, 'host_since' is of type {listings['host_since'].dtype}.\\n\")\n",
    "listings['first_review'].sample(3)"
   ]
  },
  {
   "cell_type": "code",
   "execution_count": 111,
   "id": "6a772bcd-44a5-4e83-a050-8a99fb5b1fef",
   "metadata": {},
   "outputs": [
    {
     "name": "stdout",
     "output_type": "stream",
     "text": [
      "Before converting, 'room_type' is of type object.\n",
      "Converting property_type\n",
      "Converting room_type\n",
      "Converting neighbourhood_cleansed\n",
      "After converting, 'room_type' is of type category.\n",
      "\n"
     ]
    },
    {
     "data": {
      "text/plain": [
       "28392    Entire home/apt\n",
       "44961    Entire home/apt\n",
       "14152       Private room\n",
       "Name: room_type, dtype: category\n",
       "Categories (4, object): ['Entire home/apt', 'Hotel room', 'Private room', 'Shared room']"
      ]
     },
     "execution_count": 111,
     "metadata": {},
     "output_type": "execute_result"
    }
   ],
   "source": [
    "# Converting categorical variables\n",
    "categories = ['property_type', 'room_type', 'neighbourhood_cleansed',]\n",
    "print(f\"Before converting, 'room_type' is of type {listings['room_type'].dtype}.\")\n",
    "\n",
    "for c in categories:\n",
    "    print(\"Converting \" + c)\n",
    "    listings[c] = listings[c].astype('category')\n",
    "\n",
    "print(f\"After converting, 'room_type' is of type {listings['room_type'].dtype}.\\n\")\n",
    "listings['room_type'].sample(3)"
   ]
  },
  {
   "cell_type": "code",
   "execution_count": 119,
   "id": "dd40e570-6704-4e54-a4b6-a2e66717d312",
   "metadata": {},
   "outputs": [
    {
     "name": "stdout",
     "output_type": "stream",
     "text": [
      "Before converting, 'price' is of type object.\n",
      "Converting price\n",
      "After converting, 'price' is of type float64.\n",
      "\n"
     ]
    },
    {
     "data": {
      "text/plain": [
       "8168      NaN\n",
       "34217    53.0\n",
       "56730    72.0\n",
       "Name: price, dtype: float64"
      ]
     },
     "execution_count": 119,
     "metadata": {},
     "output_type": "execute_result"
    }
   ],
   "source": [
    "# Converting float variables\n",
    "# Looks like just 'price' for now, which is originally \n",
    "floats = ['price']\n",
    "print(f\"Before converting, 'price' is of type {listings['price'].dtype}.\")\n",
    "\n",
    "# Also removing '$' so we're left with the float\n",
    "for f in floats:\n",
    "    print(\"Converting \" + f)\n",
    "    listings[f] = listings[f].str.replace('$','', regex=False).str.replace(',', '').astype('float').round(2)    \n",
    "print(f\"After converting, 'price' is of type {listings['price'].dtype}.\\n\")\n",
    "listings['price'].sample(3)"
   ]
  },
  {
   "cell_type": "code",
   "execution_count": 134,
   "id": "bbe412c1-b096-426a-908b-f4bc43586c9f",
   "metadata": {},
   "outputs": [
    {
     "name": "stdout",
     "output_type": "stream",
     "text": [
      "Before converting, 'host_listings_count' is of type float64.\n",
      "Converting host_listings_count\n",
      "Converting host_total_listings_count\n",
      "After converting, 'host_listings_count' is of type int64.\n",
      "\n"
     ]
    },
    {
     "data": {
      "text/plain": [
       "40357    4\n",
       "45208    5\n",
       "53308    6\n",
       "Name: host_listings_count, dtype: int64"
      ]
     },
     "execution_count": 134,
     "metadata": {},
     "output_type": "execute_result"
    }
   ],
   "source": [
    "# Converting integer variables\n",
    "# Looks like just these for now, which are originally floats\n",
    "ints = ['host_listings_count', 'host_total_listings_count']\n",
    "print(f\"Before converting, 'host_listings_count' is of type {listings['host_listings_count'].dtype}.\")\n",
    "\n",
    "# Note: i'm also putting in '0' where the cell is empty\n",
    "for i in ints:\n",
    "    print(f\"Converting {i}\")\n",
    "    listings[i] = listings[i].fillna(0).astype('int')\n",
    "\n",
    "print(f\"After converting, 'host_listings_count' is of type {listings['host_listings_count'].dtype}.\\n\")\n",
    "listings['host_listings_count'].sample(3)    "
   ]
  },
  {
   "cell_type": "markdown",
   "id": "ca787a69-6569-492c-b055-96aedef32826",
   "metadata": {},
   "source": [
    "### Saving a copy of the listings dataset as it's been cleaned thus far..."
   ]
  },
  {
   "cell_type": "code",
   "execution_count": 137,
   "id": "69847816-fc02-43cb-bd4d-493d59cec327",
   "metadata": {},
   "outputs": [
    {
     "name": "stdout",
     "output_type": "stream",
     "text": [
      "Folder for clean data found.\n",
      "Provisionally cleaned listings dataset added to data/clean.\n"
     ]
    }
   ],
   "source": [
    "path = os.path.join('data','clean')\n",
    "\n",
    "if not os.path.exists(path):\n",
    "    print(f\"Creating {path} under {os.getcwd()}\")\n",
    "    os.makedirs(path)\n",
    "\n",
    "else: \n",
    "    print(f\"Folder for clean data found.\")\n",
    "    \n",
    "listings.to_csv(os.path.join(path, \"listings_provisonal.csv\"), index=False)\n",
    "print(\"Provisionally cleaned listings dataset added to data/clean.\")"
   ]
  },
  {
   "cell_type": "markdown",
   "id": "19d3481c-995e-4907-a336-8c3240ac540f",
   "metadata": {},
   "source": [
    "### Creating a GDF from listings "
   ]
  },
  {
   "cell_type": "code",
   "execution_count": 138,
   "id": "627d7b0d-024f-4303-847a-7620dce3f536",
   "metadata": {},
   "outputs": [],
   "source": [
    "geolistings = gpd.GeoDataFrame(listings, \n",
    "                               geometry = gpd.points_from_xy(listings.longitude, \n",
    "                                                             listings.latitude,\n",
    "                                                             crs ='epsg:4326'))"
   ]
  },
  {
   "cell_type": "markdown",
   "id": "3509b0a9-7fea-4940-bdf7-320f3ca93c80",
   "metadata": {
    "scrolled": true
   },
   "source": [
    "### Investigating hosts with multiple listings\n"
   ]
  },
  {
   "cell_type": "code",
   "execution_count": 18,
   "id": "d9b3db56-4431-43d1-add6-1b8af8469b49",
   "metadata": {},
   "outputs": [
    {
     "data": {
      "text/html": [
       "<div>\n",
       "<style scoped>\n",
       "    .dataframe tbody tr th:only-of-type {\n",
       "        vertical-align: middle;\n",
       "    }\n",
       "\n",
       "    .dataframe tbody tr th {\n",
       "        vertical-align: top;\n",
       "    }\n",
       "\n",
       "    .dataframe thead th {\n",
       "        text-align: right;\n",
       "    }\n",
       "</style>\n",
       "<table border=\"1\" class=\"dataframe\">\n",
       "  <thead>\n",
       "    <tr style=\"text-align: right;\">\n",
       "      <th></th>\n",
       "      <th>calculated_host_listings_count</th>\n",
       "      <th>host_listings_count</th>\n",
       "      <th>host_total_listings_count</th>\n",
       "    </tr>\n",
       "  </thead>\n",
       "  <tbody>\n",
       "    <tr>\n",
       "      <th>74311</th>\n",
       "      <td>259</td>\n",
       "      <td>268.0</td>\n",
       "      <td>697.0</td>\n",
       "    </tr>\n",
       "    <tr>\n",
       "      <th>50620</th>\n",
       "      <td>2</td>\n",
       "      <td>2.0</td>\n",
       "      <td>2.0</td>\n",
       "    </tr>\n",
       "    <tr>\n",
       "      <th>874</th>\n",
       "      <td>2</td>\n",
       "      <td>2.0</td>\n",
       "      <td>2.0</td>\n",
       "    </tr>\n",
       "  </tbody>\n",
       "</table>\n",
       "</div>"
      ],
      "text/plain": [
       "       calculated_host_listings_count  host_listings_count  \\\n",
       "74311                             259                268.0   \n",
       "50620                               2                  2.0   \n",
       "874                                 2                  2.0   \n",
       "\n",
       "       host_total_listings_count  \n",
       "74311                      697.0  \n",
       "50620                        2.0  \n",
       "874                          2.0  "
      ]
     },
     "execution_count": 18,
     "metadata": {},
     "output_type": "execute_result"
    }
   ],
   "source": [
    "# First, taking a look at the variables in our dataset that look relevant\n",
    "listings[[\"calculated_host_listings_count\", \"host_listings_count\", \"host_total_listings_count\"]].sample(3)"
   ]
  },
  {
   "cell_type": "markdown",
   "id": "17b4616e-e2e5-468d-8b68-937379e49cb7",
   "metadata": {},
   "source": [
    "We can see that these numbers aren't always the same across \"calculated_host_listings_count\", \"host_listings_count\", and \"host_listings_count\"...\n",
    "\n",
    "calculated_host_listings_count and host_listings_count are often not too far apart, but host_total_listings_count sometimes displays numbers that are quite different. I'm not sure why - data dictionary variable descriptors don't provide much clarity on this."
   ]
  }
 ],
 "metadata": {
  "kernelspec": {
   "display_name": "Python (base)",
   "language": "python",
   "name": "base"
  },
  "language_info": {
   "codemirror_mode": {
    "name": "ipython",
    "version": 3
   },
   "file_extension": ".py",
   "mimetype": "text/x-python",
   "name": "python",
   "nbconvert_exporter": "python",
   "pygments_lexer": "ipython3",
   "version": "3.11.9"
  }
 },
 "nbformat": 4,
 "nbformat_minor": 5
}
