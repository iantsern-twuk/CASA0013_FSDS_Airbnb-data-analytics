{
 "cells": [
  {
   "cell_type": "markdown",
   "id": "4962c18e-c87e-4bf5-9920-f31a84f20257",
   "metadata": {},
   "source": [
    "# Change in Occupancy Analysis\n",
    "This Notebook will use the method detailed in Wang et al. (2024) to use review counts to estimate changes in Airbnb occupancy between 2022-2023. This will then be analysed spatially.\n",
    "\n",
    "**Stages to the workflow:**\n",
    "1. Data processing\n",
    "2. Occupancy metric calculation\n",
    "3. Spatial autocorrelation and cluster (if any) identification\n",
    "4. (depending on what shows up) Regression analysis"
   ]
  },
  {
   "cell_type": "code",
   "execution_count": 117,
   "id": "2562d73a-3e07-4f56-a717-51a0c842f87b",
   "metadata": {},
   "outputs": [
    {
     "name": "stdout",
     "output_type": "stream",
     "text": [
      "/home/jovyan/work/CASA0013 - Foundations of Spatial Data Science/CASA0013_FSDS_Airbnb-data-analytics/Documentation\n"
     ]
    }
   ],
   "source": [
    "#Loading packages\n",
    "import numpy as np\n",
    "import pandas as pd\n",
    "import geopandas as gpd\n",
    "import matplotlib.pyplot as plt \n",
    "import os\n",
    "print(os.getcwd())"
   ]
  },
  {
   "cell_type": "markdown",
   "id": "3a5271e1-b5ef-4035-babf-63dabf646ed3",
   "metadata": {},
   "source": [
    "## 1) Data Processing"
   ]
  },
  {
   "cell_type": "code",
   "execution_count": 118,
   "id": "af7f73e6-c5ad-49ac-973d-0f3ce48916e7",
   "metadata": {},
   "outputs": [],
   "source": [
    "#Load in both datasets\n",
    "listings_url = \"data/clean/listings_provisonal.csv\"\n",
    "reviews_url = \"data/clean/reviews_provisional.csv\"\n",
    "\n",
    "listings = pd.read_csv(listings_url)\n",
    "reviews = pd.read_csv(reviews_url)"
   ]
  },
  {
   "cell_type": "code",
   "execution_count": 119,
   "id": "e09e3b86-6e8f-4863-bd6e-090de766cb02",
   "metadata": {},
   "outputs": [
    {
     "name": "stdout",
     "output_type": "stream",
     "text": [
      "First review in dataset: 2022-01-01\n",
      "Last review in dataset: 2023-12-31\n"
     ]
    }
   ],
   "source": [
    "#Filtering reviews to desired time period\n",
    "reviews = reviews[(reviews['date'] >= '2022-01-01') & (reviews['date'] < '2024-01-01')]\n",
    "print(f\"First review in dataset: {reviews.date.min()}\")\n",
    "print(f\"Last review in dataset: {reviews.date.max()}\")"
   ]
  },
  {
   "cell_type": "code",
   "execution_count": 120,
   "id": "d98eb1f4-6f27-418c-a6a3-f650f8dda864",
   "metadata": {},
   "outputs": [],
   "source": [
    "#Create a year column\n",
    "reviews[\"date\"] = pd.to_datetime(reviews[\"date\"], format=\"%Y-%m-%d\")\n",
    "reviews['year'] = reviews.date.dt.year\n",
    "reviews.drop(columns = ['year_category'], inplace=True)"
   ]
  },
  {
   "cell_type": "code",
   "execution_count": 121,
   "id": "0610529f-d4b4-49e1-bc58-ef361d19fda8",
   "metadata": {},
   "outputs": [
    {
     "name": "stdout",
     "output_type": "stream",
     "text": [
      "['id', 'listing_url', 'last_scraped', 'name', 'host_id', 'host_name', 'host_since', 'host_is_superhost', 'host_listings_count', 'host_total_listings_count', 'host_verifications', 'host_identity_verified', 'neighbourhood_cleansed', 'latitude', 'longitude', 'property_type', 'room_type', 'accommodates', 'amenities', 'price', 'minimum_nights', 'maximum_nights', 'availability_30', 'availability_60', 'availability_90', 'availability_365', 'number_of_reviews', 'number_of_reviews_ltm', 'number_of_reviews_l30d', 'first_review', 'last_review', 'review_scores_rating', 'calculated_host_listings_count', 'calculated_host_listings_count_entire_homes', 'calculated_host_listings_count_private_rooms', 'calculated_host_listings_count_shared_rooms', 'reviews_per_month']\n"
     ]
    }
   ],
   "source": [
    "print(listings.columns.to_list())"
   ]
  },
  {
   "cell_type": "code",
   "execution_count": 124,
   "id": "7b453749-336f-4c1e-bd8f-cf980eaa8fa4",
   "metadata": {},
   "outputs": [],
   "source": [
    "#Get location data\n",
    "listings = gpd.GeoDataFrame(listings, geometry = gpd.points_from_xy(listings.longitude, \n",
    "                                                                    listings.latitude,\n",
    "                                                                    crs ='epsg:4326'))"
   ]
  },
  {
   "cell_type": "code",
   "execution_count": 125,
   "id": "20e3a8ee-dc22-4993-9cfa-2b3033094544",
   "metadata": {},
   "outputs": [
    {
     "data": {
      "text/html": [
       "<div>\n",
       "<style scoped>\n",
       "    .dataframe tbody tr th:only-of-type {\n",
       "        vertical-align: middle;\n",
       "    }\n",
       "\n",
       "    .dataframe tbody tr th {\n",
       "        vertical-align: top;\n",
       "    }\n",
       "\n",
       "    .dataframe thead th {\n",
       "        text-align: right;\n",
       "    }\n",
       "</style>\n",
       "<table border=\"1\" class=\"dataframe\">\n",
       "  <thead>\n",
       "    <tr style=\"text-align: right;\">\n",
       "      <th></th>\n",
       "      <th>id</th>\n",
       "      <th>minimum_nights</th>\n",
       "      <th>geometry</th>\n",
       "    </tr>\n",
       "  </thead>\n",
       "  <tbody>\n",
       "    <tr>\n",
       "      <th>0</th>\n",
       "      <td>13913</td>\n",
       "      <td>1</td>\n",
       "      <td>POINT (-0.1127 51.56861)</td>\n",
       "    </tr>\n",
       "    <tr>\n",
       "      <th>1</th>\n",
       "      <td>15400</td>\n",
       "      <td>4</td>\n",
       "      <td>POINT (-0.16813 51.4878)</td>\n",
       "    </tr>\n",
       "    <tr>\n",
       "      <th>2</th>\n",
       "      <td>17402</td>\n",
       "      <td>3</td>\n",
       "      <td>POINT (-0.14094 51.52195)</td>\n",
       "    </tr>\n",
       "    <tr>\n",
       "      <th>3</th>\n",
       "      <td>24328</td>\n",
       "      <td>2</td>\n",
       "      <td>POINT (-0.16266 51.47072)</td>\n",
       "    </tr>\n",
       "    <tr>\n",
       "      <th>4</th>\n",
       "      <td>33332</td>\n",
       "      <td>2</td>\n",
       "      <td>POINT (-0.32498 51.4641)</td>\n",
       "    </tr>\n",
       "  </tbody>\n",
       "</table>\n",
       "</div>"
      ],
      "text/plain": [
       "      id  minimum_nights                   geometry\n",
       "0  13913               1   POINT (-0.1127 51.56861)\n",
       "1  15400               4   POINT (-0.16813 51.4878)\n",
       "2  17402               3  POINT (-0.14094 51.52195)\n",
       "3  24328               2  POINT (-0.16266 51.47072)\n",
       "4  33332               2   POINT (-0.32498 51.4641)"
      ]
     },
     "execution_count": 125,
     "metadata": {},
     "output_type": "execute_result"
    }
   ],
   "source": [
    "#Keep info for occupancy calculations\n",
    "listings = listings[[\"id\", \"minimum_nights\", \"geometry\"]]\n",
    "listings.head()"
   ]
  },
  {
   "cell_type": "code",
   "execution_count": 126,
   "id": "877333aa-1379-47ac-87af-b807a8ddbfe8",
   "metadata": {},
   "outputs": [
    {
     "data": {
      "text/plain": [
       "listing_id\n",
       "47408549               1081\n",
       "43120947               1075\n",
       "30760930               1040\n",
       "46233904                740\n",
       "47438714                578\n",
       "                       ... \n",
       "654507104940968113        1\n",
       "654657625827436289        1\n",
       "654784738383898810        1\n",
       "1044996951390828036       1\n",
       "1044317871126057271       1\n",
       "Name: count, Length: 40293, dtype: int64"
      ]
     },
     "execution_count": 126,
     "metadata": {},
     "output_type": "execute_result"
    }
   ],
   "source": [
    "#Noting unrealistic properties\n",
    "#Some of these are clearly hotels rather than STLs\n",
    "#But we are measuring overall popularity of the platform, rather than individual listing popularity\n",
    "#Plus they'll be capped anyway which will reduce their impact\n",
    "#But noting these here in case we come back to them in the future\n",
    "reviews.listing_id.value_counts()"
   ]
  },
  {
   "cell_type": "code",
   "execution_count": 127,
   "id": "fe7edb97-043b-4c93-907c-ff80b8aa8c19",
   "metadata": {},
   "outputs": [
    {
     "data": {
      "text/plain": [
       "count      11.000000\n",
       "mean      660.000000\n",
       "std       275.648689\n",
       "min       422.000000\n",
       "25%       448.000000\n",
       "50%       520.000000\n",
       "75%       890.000000\n",
       "max      1081.000000\n",
       "Name: count_reviews2223, dtype: float64"
      ]
     },
     "execution_count": 127,
     "metadata": {},
     "output_type": "execute_result"
    }
   ],
   "source": [
    "#Keeping these for later if needed\n",
    "review_counts = reviews['listing_id'].value_counts().reset_index()\n",
    "review_counts.columns = ['listing_id', 'count_reviews2223']\n",
    "high_reviews = review_counts[review_counts.count_reviews2223 > 365]\n",
    "high_reviews.count_reviews2223.describe()"
   ]
  },
  {
   "cell_type": "markdown",
   "id": "71320681-6961-4bc2-bdef-11fa447b6f12",
   "metadata": {},
   "source": [
    "## 2) Occupancy Metric Calculation\n",
    "\n",
    "1. Calculate total reviews for each listing per year\n",
    "2. Divide these by the presumed review rate (0.5)\n",
    "3. Join to the minimum stay length from Airbnb dataset and multiply by minimum number of days\n",
    "4. Multiply this by review rate\n",
    "5. Cap at 21 nights per month\n",
    "6. Sum by LSOA\n",
    "7. Calculate percentage change between years"
   ]
  },
  {
   "cell_type": "code",
   "execution_count": 137,
   "id": "1ad0fb4f-652a-4754-a1fb-06446648b039",
   "metadata": {},
   "outputs": [
    {
     "data": {
      "text/html": [
       "<div>\n",
       "<style scoped>\n",
       "    .dataframe tbody tr th:only-of-type {\n",
       "        vertical-align: middle;\n",
       "    }\n",
       "\n",
       "    .dataframe tbody tr th {\n",
       "        vertical-align: top;\n",
       "    }\n",
       "\n",
       "    .dataframe thead th {\n",
       "        text-align: right;\n",
       "    }\n",
       "</style>\n",
       "<table border=\"1\" class=\"dataframe\">\n",
       "  <thead>\n",
       "    <tr style=\"text-align: right;\">\n",
       "      <th></th>\n",
       "      <th>listing_id</th>\n",
       "      <th>2022_reviews</th>\n",
       "      <th>2023_reviews</th>\n",
       "      <th>2022_reviews_rate_adjusted</th>\n",
       "      <th>2023_reviews_rate_adjusted</th>\n",
       "      <th>minimum_nights</th>\n",
       "      <th>geometry</th>\n",
       "      <th>estimated_stay</th>\n",
       "      <th>2022_estimated_nights</th>\n",
       "      <th>2023_estimated_nights</th>\n",
       "      <th>2022_estimates_nights_capped</th>\n",
       "      <th>2023_estimates_nights_capped</th>\n",
       "    </tr>\n",
       "  </thead>\n",
       "  <tbody>\n",
       "    <tr>\n",
       "      <th>0</th>\n",
       "      <td>13913</td>\n",
       "      <td>19</td>\n",
       "      <td>1</td>\n",
       "      <td>38.0</td>\n",
       "      <td>2.0</td>\n",
       "      <td>1</td>\n",
       "      <td>POINT (-0.1127 51.56861)</td>\n",
       "      <td>3</td>\n",
       "      <td>114.0</td>\n",
       "      <td>6.0</td>\n",
       "      <td>114.0</td>\n",
       "      <td>6.0</td>\n",
       "    </tr>\n",
       "    <tr>\n",
       "      <th>1</th>\n",
       "      <td>15400</td>\n",
       "      <td>3</td>\n",
       "      <td>2</td>\n",
       "      <td>6.0</td>\n",
       "      <td>4.0</td>\n",
       "      <td>4</td>\n",
       "      <td>POINT (-0.16813 51.4878)</td>\n",
       "      <td>4</td>\n",
       "      <td>24.0</td>\n",
       "      <td>16.0</td>\n",
       "      <td>24.0</td>\n",
       "      <td>16.0</td>\n",
       "    </tr>\n",
       "    <tr>\n",
       "      <th>2</th>\n",
       "      <td>17402</td>\n",
       "      <td>10</td>\n",
       "      <td>1</td>\n",
       "      <td>20.0</td>\n",
       "      <td>2.0</td>\n",
       "      <td>3</td>\n",
       "      <td>POINT (-0.14094 51.52195)</td>\n",
       "      <td>3</td>\n",
       "      <td>60.0</td>\n",
       "      <td>6.0</td>\n",
       "      <td>60.0</td>\n",
       "      <td>6.0</td>\n",
       "    </tr>\n",
       "    <tr>\n",
       "      <th>3</th>\n",
       "      <td>24328</td>\n",
       "      <td>3</td>\n",
       "      <td>0</td>\n",
       "      <td>6.0</td>\n",
       "      <td>0.0</td>\n",
       "      <td>2</td>\n",
       "      <td>POINT (-0.16266 51.47072)</td>\n",
       "      <td>3</td>\n",
       "      <td>18.0</td>\n",
       "      <td>0.0</td>\n",
       "      <td>18.0</td>\n",
       "      <td>0.0</td>\n",
       "    </tr>\n",
       "    <tr>\n",
       "      <th>4</th>\n",
       "      <td>33332</td>\n",
       "      <td>8</td>\n",
       "      <td>0</td>\n",
       "      <td>16.0</td>\n",
       "      <td>0.0</td>\n",
       "      <td>2</td>\n",
       "      <td>POINT (-0.32498 51.4641)</td>\n",
       "      <td>3</td>\n",
       "      <td>48.0</td>\n",
       "      <td>0.0</td>\n",
       "      <td>48.0</td>\n",
       "      <td>0.0</td>\n",
       "    </tr>\n",
       "  </tbody>\n",
       "</table>\n",
       "</div>"
      ],
      "text/plain": [
       "   listing_id  2022_reviews  2023_reviews  2022_reviews_rate_adjusted  \\\n",
       "0       13913            19             1                        38.0   \n",
       "1       15400             3             2                         6.0   \n",
       "2       17402            10             1                        20.0   \n",
       "3       24328             3             0                         6.0   \n",
       "4       33332             8             0                        16.0   \n",
       "\n",
       "   2023_reviews_rate_adjusted  minimum_nights                   geometry  \\\n",
       "0                         2.0               1   POINT (-0.1127 51.56861)   \n",
       "1                         4.0               4   POINT (-0.16813 51.4878)   \n",
       "2                         2.0               3  POINT (-0.14094 51.52195)   \n",
       "3                         0.0               2  POINT (-0.16266 51.47072)   \n",
       "4                         0.0               2   POINT (-0.32498 51.4641)   \n",
       "\n",
       "   estimated_stay  2022_estimated_nights  2023_estimated_nights  \\\n",
       "0               3                  114.0                    6.0   \n",
       "1               4                   24.0                   16.0   \n",
       "2               3                   60.0                    6.0   \n",
       "3               3                   18.0                    0.0   \n",
       "4               3                   48.0                    0.0   \n",
       "\n",
       "   2022_estimates_nights_capped  2023_estimates_nights_capped  \n",
       "0                         114.0                           6.0  \n",
       "1                          24.0                          16.0  \n",
       "2                          60.0                           6.0  \n",
       "3                          18.0                           0.0  \n",
       "4                          48.0                           0.0  "
      ]
     },
     "execution_count": 137,
     "metadata": {},
     "output_type": "execute_result"
    }
   ],
   "source": [
    "#Step 1\n",
    "annual_reviews = reviews.groupby(['listing_id', 'year']).size().unstack(fill_value=0)\n",
    "annual_reviews.rename(columns={2022: '2022_reviews', 2023: '2023_reviews'}, inplace=True)\n",
    "annual_reviews = annual_reviews.reset_index()\n",
    "annual_reviews.columns.name = None\n",
    "\n",
    "#Step 2\n",
    "annual_reviews['2022_reviews_rate_adjusted'] = annual_reviews['2022_reviews']/0.5\n",
    "annual_reviews['2023_reviews_rate_adjusted'] = annual_reviews['2023_reviews']/0.5\n",
    "\n",
    "#Step 3\n",
    "annual_reviews = annual_reviews.merge(listings, how='left', left_on='listing_id', right_on='id').drop(columns = ['id'])\n",
    "annual_reviews[annual_reviews.minimum_nights.isna()] #Join was fine - no nulls\n",
    "annual_reviews['estimated_stay'] = np.maximum(3, annual_reviews.minimum_nights)\n",
    "\n",
    "#Ensure annual_reviews is still a gdf\n",
    "annual_reviews = gpd.GeoDataFrame(annual_reviews, geometry='geometry', crs=listings.crs)\n",
    "\n",
    "#Step 4\n",
    "annual_reviews['2022_estimated_nights'] = annual_reviews['2022_reviews_rate_adjusted'] * annual_reviews.estimated_stay\n",
    "annual_reviews['2023_estimated_nights'] = annual_reviews['2023_reviews_rate_adjusted'] * annual_reviews.estimated_stay\n",
    "\n",
    "#Step 5\n",
    "cap_nights = 12*21 #Wang et al. (2024) estimated cap of 21 nights per month\n",
    "annual_reviews['2022_estimates_nights_capped'] = np.minimum(cap_nights, annual_reviews['2022_estimated_nights'])\n",
    "annual_reviews['2023_estimates_nights_capped'] = np.minimum(cap_nights, annual_reviews['2023_estimated_nights'])\n",
    "\n",
    "annual_reviews.head()"
   ]
  },
  {
   "cell_type": "code",
   "execution_count": 138,
   "id": "6a9da478-12e8-4bcd-b3c5-11bc703c4dfd",
   "metadata": {},
   "outputs": [
    {
     "name": "stdout",
     "output_type": "stream",
     "text": [
      "count    40293.000000\n",
      "mean        45.051895\n",
      "std         68.402323\n",
      "min          0.000000\n",
      "25%          0.000000\n",
      "50%         12.000000\n",
      "75%         64.000000\n",
      "max        252.000000\n",
      "Name: 2022_estimates_nights_capped, dtype: float64\n"
     ]
    },
    {
     "data": {
      "text/plain": [
       "<Axes: ylabel='Frequency'>"
      ]
     },
     "execution_count": 138,
     "metadata": {},
     "output_type": "execute_result"
    },
    {
     "data": {
      "image/png": "[encoded data removed]",
      "text/plain": [
       "<Figure size 640x480 with 1 Axes>"
      ]
     },
     "metadata": {},
     "output_type": "display_data"
    }
   ],
   "source": [
    "#Quick summary stats\n",
    "print(annual_reviews['2022_estimates_nights_capped'].describe())\n",
    "annual_reviews['2022_estimates_nights_capped'].plot.hist()"
   ]
  },
  {
   "cell_type": "code",
   "execution_count": 139,
   "id": "13244642-68ad-48f9-8d7f-ee1521e1e432",
   "metadata": {},
   "outputs": [
    {
     "name": "stdout",
     "output_type": "stream",
     "text": [
      "count    40293.000000\n",
      "mean        69.891842\n",
      "std         74.769706\n",
      "min          0.000000\n",
      "25%         12.000000\n",
      "50%         42.000000\n",
      "75%        100.000000\n",
      "max        252.000000\n",
      "Name: 2023_estimates_nights_capped, dtype: float64\n"
     ]
    },
    {
     "data": {
      "text/plain": [
       "<Axes: ylabel='Frequency'>"
      ]
     },
     "execution_count": 139,
     "metadata": {},
     "output_type": "execute_result"
    },
    {
     "data": {
      "image/png": "[encoded data removed]",
      "text/plain": [
       "<Figure size 640x480 with 1 Axes>"
      ]
     },
     "metadata": {},
     "output_type": "display_data"
    }
   ],
   "source": [
    "print(annual_reviews['2023_estimates_nights_capped'].describe())\n",
    "annual_reviews['2023_estimates_nights_capped'].plot.hist()"
   ]
  },
  {
   "cell_type": "code",
   "execution_count": 148,
   "id": "9ff5e9b7-d90a-4fe6-a058-8533e932c852",
   "metadata": {},
   "outputs": [
    {
     "name": "stdout",
     "output_type": "stream",
     "text": [
      "LSOA projection: PROJCS[\"OSGB36 / British National Grid\",GEOGCS[\"OSGB36\",DATUM[\"Ordnance_Survey_of_Great_Britain_1936\",SPHEROID[\"Airy 1830\",6377563.396,299.3249646,AUTHORITY[\"EPSG\",\"7001\"]],AUTHORITY[\"EPSG\",\"6277\"]],PRIMEM[\"Greenwich\",0],UNIT[\"Degree\",0.0174532925199433]],PROJECTION[\"Transverse_Mercator\"],PARAMETER[\"latitude_of_origin\",49],PARAMETER[\"central_meridian\",-2],PARAMETER[\"scale_factor\",0.999601272],PARAMETER[\"false_easting\",400000],PARAMETER[\"false_northing\",-100000],UNIT[\"metre\",1,AUTHORITY[\"EPSG\",\"9001\"]],AXIS[\"Easting\",EAST],AXIS[\"Northing\",NORTH]]\n",
      "\n",
      "Listings projection: PROJCS[\"OSGB36 / British National Grid\",GEOGCS[\"OSGB36\",DATUM[\"Ordnance_Survey_of_Great_Britain_1936\",SPHEROID[\"Airy 1830\",6377563.396,299.3249646,AUTHORITY[\"EPSG\",\"7001\"]],AUTHORITY[\"EPSG\",\"6277\"]],PRIMEM[\"Greenwich\",0],UNIT[\"Degree\",0.0174532925199433]],PROJECTION[\"Transverse_Mercator\"],PARAMETER[\"latitude_of_origin\",49],PARAMETER[\"central_meridian\",-2],PARAMETER[\"scale_factor\",0.999601272],PARAMETER[\"false_easting\",400000],PARAMETER[\"false_northing\",-100000],UNIT[\"metre\",1,AUTHORITY[\"EPSG\",\"9001\"]],AXIS[\"Easting\",EAST],AXIS[\"Northing\",NORTH]]\n",
      "\n",
      "New listings projection: PROJCS[\"OSGB36 / British National Grid\",GEOGCS[\"OSGB36\",DATUM[\"Ordnance_Survey_of_Great_Britain_1936\",SPHEROID[\"Airy 1830\",6377563.396,299.3249646,AUTHORITY[\"EPSG\",\"7001\"]],AUTHORITY[\"EPSG\",\"6277\"]],PRIMEM[\"Greenwich\",0],UNIT[\"Degree\",0.0174532925199433]],PROJECTION[\"Transverse_Mercator\"],PARAMETER[\"latitude_of_origin\",49],PARAMETER[\"central_meridian\",-2],PARAMETER[\"scale_factor\",0.999601272],PARAMETER[\"false_easting\",400000],PARAMETER[\"false_northing\",-100000],UNIT[\"metre\",1,AUTHORITY[\"EPSG\",\"9001\"]],AXIS[\"Easting\",EAST],AXIS[\"Northing\",NORTH]]\n"
     ]
    },
    {
     "data": {
      "text/html": [
       "<div>\n",
       "<style scoped>\n",
       "    .dataframe tbody tr th:only-of-type {\n",
       "        vertical-align: middle;\n",
       "    }\n",
       "\n",
       "    .dataframe tbody tr th {\n",
       "        vertical-align: top;\n",
       "    }\n",
       "\n",
       "    .dataframe thead th {\n",
       "        text-align: right;\n",
       "    }\n",
       "</style>\n",
       "<table border=\"1\" class=\"dataframe\">\n",
       "  <thead>\n",
       "    <tr style=\"text-align: right;\">\n",
       "      <th></th>\n",
       "      <th>lsoa_code</th>\n",
       "      <th>lsoa_name</th>\n",
       "      <th>geometry</th>\n",
       "    </tr>\n",
       "  </thead>\n",
       "  <tbody>\n",
       "    <tr>\n",
       "      <th>0</th>\n",
       "      <td>E01000001</td>\n",
       "      <td>City of London 001A</td>\n",
       "      <td>POLYGON ((532105.092 182011.23, 532162.491 181...</td>\n",
       "    </tr>\n",
       "    <tr>\n",
       "      <th>1</th>\n",
       "      <td>E01000002</td>\n",
       "      <td>City of London 001B</td>\n",
       "      <td>POLYGON ((532746.813 181786.891, 532671.688 18...</td>\n",
       "    </tr>\n",
       "    <tr>\n",
       "      <th>2</th>\n",
       "      <td>E01000003</td>\n",
       "      <td>City of London 001C</td>\n",
       "      <td>POLYGON ((532135.145 182198.119, 532158.25 182...</td>\n",
       "    </tr>\n",
       "    <tr>\n",
       "      <th>3</th>\n",
       "      <td>E01000005</td>\n",
       "      <td>City of London 001E</td>\n",
       "      <td>POLYGON ((533807.946 180767.77, 533649.063 180...</td>\n",
       "    </tr>\n",
       "    <tr>\n",
       "      <th>4</th>\n",
       "      <td>E01000006</td>\n",
       "      <td>Barking and Dagenham 016A</td>\n",
       "      <td>POLYGON ((545122.049 184314.931, 545271.917 18...</td>\n",
       "    </tr>\n",
       "  </tbody>\n",
       "</table>\n",
       "</div>"
      ],
      "text/plain": [
       "   lsoa_code                  lsoa_name  \\\n",
       "0  E01000001        City of London 001A   \n",
       "1  E01000002        City of London 001B   \n",
       "2  E01000003        City of London 001C   \n",
       "3  E01000005        City of London 001E   \n",
       "4  E01000006  Barking and Dagenham 016A   \n",
       "\n",
       "                                            geometry  \n",
       "0  POLYGON ((532105.092 182011.23, 532162.491 181...  \n",
       "1  POLYGON ((532746.813 181786.891, 532671.688 18...  \n",
       "2  POLYGON ((532135.145 182198.119, 532158.25 182...  \n",
       "3  POLYGON ((533807.946 180767.77, 533649.063 180...  \n",
       "4  POLYGON ((545122.049 184314.931, 545271.917 18...  "
      ]
     },
     "execution_count": 148,
     "metadata": {},
     "output_type": "execute_result"
    }
   ],
   "source": [
    "#Load in LSOAs\n",
    "#Data source: https://data.london.gov.uk/dataset/statistical-gis-boundary-files-london\n",
    "lsoa_url = 'data/LSOA_2011_London_gen_MHW.shp'\n",
    "lsoas = gpd.read_file(lsoa_url)\n",
    "columns_to_keep = ['LSOA11CD', 'LSOA11NM', 'geometry']\n",
    "lsoas = lsoas.loc[:, columns_to_keep]\n",
    "print(f'LSOA projection: {lsoas.crs}')\n",
    "print(f'\\nListings projection: {annual_reviews.crs}')\n",
    "\n",
    "#Transform reviews projection\n",
    "annual_reviews = annual_reviews.to_crs(lsoas.crs)\n",
    "print(f'\\nNew listings projection: {annual_reviews.crs}')\n",
    "\n",
    "lsoas.rename(columns={'LSOA11CD': 'lsoa_code', 'LSOA11NM': 'lsoa_name'}, inplace=True)\n",
    "\n",
    "lsoas.head()"
   ]
  },
  {
   "cell_type": "code",
   "execution_count": 180,
   "id": "24eca68f-ac12-46cf-84f9-95c91aeffcb1",
   "metadata": {},
   "outputs": [
    {
     "data": {
      "text/html": [
       "<div>\n",
       "<style scoped>\n",
       "    .dataframe tbody tr th:only-of-type {\n",
       "        vertical-align: middle;\n",
       "    }\n",
       "\n",
       "    .dataframe tbody tr th {\n",
       "        vertical-align: top;\n",
       "    }\n",
       "\n",
       "    .dataframe thead th {\n",
       "        text-align: right;\n",
       "    }\n",
       "</style>\n",
       "<table border=\"1\" class=\"dataframe\">\n",
       "  <thead>\n",
       "    <tr style=\"text-align: right;\">\n",
       "      <th></th>\n",
       "      <th>lsoa_code</th>\n",
       "      <th>2022_estimates_nights_capped</th>\n",
       "      <th>2023_estimates_nights_capped</th>\n",
       "      <th>lsoa_name</th>\n",
       "      <th>geometry</th>\n",
       "    </tr>\n",
       "  </thead>\n",
       "  <tbody>\n",
       "    <tr>\n",
       "      <th>0</th>\n",
       "      <td>E01000001</td>\n",
       "      <td>252.0</td>\n",
       "      <td>420.0</td>\n",
       "      <td>City of London 001A</td>\n",
       "      <td>POLYGON ((532105.092 182011.23, 532162.491 181...</td>\n",
       "    </tr>\n",
       "    <tr>\n",
       "      <th>1</th>\n",
       "      <td>E01000002</td>\n",
       "      <td>346.0</td>\n",
       "      <td>504.0</td>\n",
       "      <td>City of London 001B</td>\n",
       "      <td>POLYGON ((532746.813 181786.891, 532671.688 18...</td>\n",
       "    </tr>\n",
       "    <tr>\n",
       "      <th>2</th>\n",
       "      <td>E01000003</td>\n",
       "      <td>294.0</td>\n",
       "      <td>480.0</td>\n",
       "      <td>City of London 001C</td>\n",
       "      <td>POLYGON ((532135.145 182198.119, 532158.25 182...</td>\n",
       "    </tr>\n",
       "    <tr>\n",
       "      <th>3</th>\n",
       "      <td>E01000005</td>\n",
       "      <td>2554.0</td>\n",
       "      <td>3948.0</td>\n",
       "      <td>City of London 001E</td>\n",
       "      <td>POLYGON ((533807.946 180767.77, 533649.063 180...</td>\n",
       "    </tr>\n",
       "    <tr>\n",
       "      <th>4</th>\n",
       "      <td>E01000006</td>\n",
       "      <td>48.0</td>\n",
       "      <td>0.0</td>\n",
       "      <td>Barking and Dagenham 016A</td>\n",
       "      <td>POLYGON ((545122.049 184314.931, 545271.917 18...</td>\n",
       "    </tr>\n",
       "  </tbody>\n",
       "</table>\n",
       "</div>"
      ],
      "text/plain": [
       "   lsoa_code  2022_estimates_nights_capped  2023_estimates_nights_capped  \\\n",
       "0  E01000001                         252.0                         420.0   \n",
       "1  E01000002                         346.0                         504.0   \n",
       "2  E01000003                         294.0                         480.0   \n",
       "3  E01000005                        2554.0                        3948.0   \n",
       "4  E01000006                          48.0                           0.0   \n",
       "\n",
       "                   lsoa_name  \\\n",
       "0        City of London 001A   \n",
       "1        City of London 001B   \n",
       "2        City of London 001C   \n",
       "3        City of London 001E   \n",
       "4  Barking and Dagenham 016A   \n",
       "\n",
       "                                            geometry  \n",
       "0  POLYGON ((532105.092 182011.23, 532162.491 181...  \n",
       "1  POLYGON ((532746.813 181786.891, 532671.688 18...  \n",
       "2  POLYGON ((532135.145 182198.119, 532158.25 182...  \n",
       "3  POLYGON ((533807.946 180767.77, 533649.063 180...  \n",
       "4  POLYGON ((545122.049 184314.931, 545271.917 18...  "
      ]
     },
     "execution_count": 180,
     "metadata": {},
     "output_type": "execute_result"
    }
   ],
   "source": [
    "#Step 6\n",
    "#Join listings to LSOAs - within isn't working but intersects is! Why?\n",
    "occupancy_by_lsoa = gpd.sjoin(lsoas, annual_reviews, how = 'left', predicate = 'intersects')\n",
    "\n",
    "#Sum estimated nights per LSOA\n",
    "lsoa_estimates = occupancy_by_lsoa.groupby('lsoa_code')[['2022_estimates_nights_capped', '2023_estimates_nights_capped']].sum()\n",
    "\n",
    "#Add on LSOA name and geometry from previous dataframe\n",
    "lsoa_estimates = lsoa_estimates.merge(lsoas, on='lsoa_code', how='left')"
   ]
  },
  {
   "cell_type": "code",
   "execution_count": 192,
   "id": "6fcc488e-43ed-4490-a4f3-549c71638f20",
   "metadata": {},
   "outputs": [],
   "source": [
    "#Step 7\n",
    "lsoa_estimates['pct_occ_change'] = round(100*(lsoa_estimates['2023_estimates_nights_capped']-lsoa_estimates['2022_estimates_nights_capped'])/lsoa_estimates['2022_estimates_nights_capped'], 3)"
   ]
  }
 ],
 "metadata": {
  "kernelspec": {
   "display_name": "Python (base)",
   "language": "python",
   "name": "base"
  },
  "language_info": {
   "codemirror_mode": {
    "name": "ipython",
    "version": 3
   },
   "file_extension": ".py",
   "mimetype": "text/x-python",
   "name": "python",
   "nbconvert_exporter": "python",
   "pygments_lexer": "ipython3",
   "version": "3.11.9"
  }
 },
 "nbformat": 4,
 "nbformat_minor": 5
}
