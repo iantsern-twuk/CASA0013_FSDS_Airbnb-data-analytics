{
 "cells": [
  {
   "cell_type": "markdown",
   "id": "4962c18e-c87e-4bf5-9920-f31a84f20257",
   "metadata": {},
   "source": [
    "# Change in Occupancy Analysis\n",
    "This Notebook will use the method detailed in Wang et al. (2024) to use review counts to estimate changes in Airbnb occupancy between 2022-2023. This will then be analysed spatially.\n",
    "\n",
    "**Stages to the workflow:**\n",
    "1. Data processing\n",
    "2. Occupancy metric calculation\n",
    "3. Spatial autocorrelation and cluster (if any) identification\n",
    "4. (depending on what shows up) Regression analysis"
   ]
  },
  {
   "cell_type": "code",
   "execution_count": 30,
   "id": "2562d73a-3e07-4f56-a717-51a0c842f87b",
   "metadata": {},
   "outputs": [
    {
     "name": "stdout",
     "output_type": "stream",
     "text": [
      "/home/jovyan/work/CASA0013 - Foundations of Spatial Data Science/CASA0013_FSDS_Airbnb-data-analytics/Documentation\n"
     ]
    }
   ],
   "source": [
    "#Loading packages\n",
    "import numpy as np\n",
    "import pandas as pd\n",
    "import geopandas as gpd\n",
    "import matplotlib.pyplot as plt \n",
    "import os\n",
    "print(os.getcwd())"
   ]
  },
  {
   "cell_type": "markdown",
   "id": "3a5271e1-b5ef-4035-babf-63dabf646ed3",
   "metadata": {},
   "source": [
    "## 1) Data Processing"
   ]
  },
  {
   "cell_type": "code",
   "execution_count": 31,
   "id": "af7f73e6-c5ad-49ac-973d-0f3ce48916e7",
   "metadata": {},
   "outputs": [],
   "source": [
    "#Load in both datasets\n",
    "listings_url = \"data/clean/listings_provisonal.csv\"\n",
    "reviews_url = \"data/clean/reviews_provisional.csv\"\n",
    "\n",
    "listings = pd.read_csv(listings_url)\n",
    "reviews = pd.read_csv(reviews_url)"
   ]
  },
  {
   "cell_type": "code",
   "execution_count": 32,
   "id": "0610529f-d4b4-49e1-bc58-ef361d19fda8",
   "metadata": {},
   "outputs": [
    {
     "name": "stdout",
     "output_type": "stream",
     "text": [
      "['id', 'listing_url', 'last_scraped', 'name', 'host_id', 'host_name', 'host_since', 'host_is_superhost', 'host_listings_count', 'host_total_listings_count', 'host_verifications', 'host_identity_verified', 'neighbourhood_cleansed', 'latitude', 'longitude', 'property_type', 'room_type', 'accommodates', 'amenities', 'price', 'minimum_nights', 'maximum_nights', 'availability_30', 'availability_60', 'availability_90', 'availability_365', 'number_of_reviews', 'number_of_reviews_ltm', 'number_of_reviews_l30d', 'first_review', 'last_review', 'review_scores_rating', 'calculated_host_listings_count', 'calculated_host_listings_count_entire_homes', 'calculated_host_listings_count_private_rooms', 'calculated_host_listings_count_shared_rooms', 'reviews_per_month']\n"
     ]
    }
   ],
   "source": [
    "print(listings.columns.to_list())"
   ]
  },
  {
   "cell_type": "code",
   "execution_count": 33,
   "id": "20e3a8ee-dc22-4993-9cfa-2b3033094544",
   "metadata": {},
   "outputs": [
    {
     "data": {
      "text/html": [
       "<div>\n",
       "<style scoped>\n",
       "    .dataframe tbody tr th:only-of-type {\n",
       "        vertical-align: middle;\n",
       "    }\n",
       "\n",
       "    .dataframe tbody tr th {\n",
       "        vertical-align: top;\n",
       "    }\n",
       "\n",
       "    .dataframe thead th {\n",
       "        text-align: right;\n",
       "    }\n",
       "</style>\n",
       "<table border=\"1\" class=\"dataframe\">\n",
       "  <thead>\n",
       "    <tr style=\"text-align: right;\">\n",
       "      <th></th>\n",
       "      <th>id</th>\n",
       "      <th>first_review</th>\n",
       "      <th>last_review</th>\n",
       "      <th>reviews_per_month</th>\n",
       "      <th>minimum_nights</th>\n",
       "    </tr>\n",
       "  </thead>\n",
       "  <tbody>\n",
       "    <tr>\n",
       "      <th>0</th>\n",
       "      <td>13913</td>\n",
       "      <td>2010-08-18</td>\n",
       "      <td>2024-07-10</td>\n",
       "      <td>0.26</td>\n",
       "      <td>1</td>\n",
       "    </tr>\n",
       "    <tr>\n",
       "      <th>1</th>\n",
       "      <td>15400</td>\n",
       "      <td>2009-12-21</td>\n",
       "      <td>2024-04-28</td>\n",
       "      <td>0.54</td>\n",
       "      <td>4</td>\n",
       "    </tr>\n",
       "    <tr>\n",
       "      <th>2</th>\n",
       "      <td>17402</td>\n",
       "      <td>2011-03-21</td>\n",
       "      <td>2024-02-19</td>\n",
       "      <td>0.34</td>\n",
       "      <td>3</td>\n",
       "    </tr>\n",
       "    <tr>\n",
       "      <th>3</th>\n",
       "      <td>24328</td>\n",
       "      <td>2010-11-15</td>\n",
       "      <td>2022-07-19</td>\n",
       "      <td>0.56</td>\n",
       "      <td>2</td>\n",
       "    </tr>\n",
       "    <tr>\n",
       "      <th>4</th>\n",
       "      <td>33332</td>\n",
       "      <td>2010-10-16</td>\n",
       "      <td>2022-08-01</td>\n",
       "      <td>0.11</td>\n",
       "      <td>2</td>\n",
       "    </tr>\n",
       "  </tbody>\n",
       "</table>\n",
       "</div>"
      ],
      "text/plain": [
       "      id first_review last_review  reviews_per_month  minimum_nights\n",
       "0  13913   2010-08-18  2024-07-10               0.26               1\n",
       "1  15400   2009-12-21  2024-04-28               0.54               4\n",
       "2  17402   2011-03-21  2024-02-19               0.34               3\n",
       "3  24328   2010-11-15  2022-07-19               0.56               2\n",
       "4  33332   2010-10-16  2022-08-01               0.11               2"
      ]
     },
     "execution_count": 33,
     "metadata": {},
     "output_type": "execute_result"
    }
   ],
   "source": [
    "#Keep id, first review, last review, reviews per month (though I'll probably recalculate this), minimum nights\n",
    "listings = listings[[\"id\", \"first_review\", \"last_review\", \"reviews_per_month\", \"minimum_nights\"]]\n",
    "listings.head()"
   ]
  },
  {
   "cell_type": "code",
   "execution_count": 34,
   "id": "877333aa-1379-47ac-87af-b807a8ddbfe8",
   "metadata": {},
   "outputs": [
    {
     "data": {
      "text/plain": [
       "listing_id\n",
       "47408549               890\n",
       "43120947               785\n",
       "30760930               615\n",
       "47438714               497\n",
       "51738677               437\n",
       "                      ... \n",
       "1228824289813508892      1\n",
       "1228835271290751437      1\n",
       "1232581373083249751      1\n",
       "1232626920155165386      1\n",
       "1232764003769397209      1\n",
       "Name: count, Length: 55598, dtype: int64"
      ]
     },
     "execution_count": 34,
     "metadata": {},
     "output_type": "execute_result"
    }
   ],
   "source": [
    "#Filter out unrealistic listings from reviews\n",
    "\n",
    "#I saw when processing the data that some have more than 1 review per night\n",
    "#These look realistic as they are hotels rather than STLs\n",
    "#But probably need to be excluded here as they can't be compared to other listings in the same way\n",
    "\n",
    "reviews.listing_id.value_counts()"
   ]
  },
  {
   "cell_type": "code",
   "execution_count": 35,
   "id": "f13edc17-b906-4de9-8c5b-5494fffe33b8",
   "metadata": {},
   "outputs": [
    {
     "data": {
      "text/plain": [
       "listing_id\n",
       "47408549    890\n",
       "43120947    785\n",
       "30760930    615\n",
       "47438714    497\n",
       "51738677    437\n",
       "45006692    429\n",
       "51995470    427\n",
       "26766870    400\n",
       "Name: count, dtype: int64"
      ]
     },
     "execution_count": 35,
     "metadata": {},
     "output_type": "execute_result"
    }
   ],
   "source": [
    "#Checking for properties with over 1 review every 2 days\n",
    "reviews['listing_id'].value_counts()[lambda x: x > 365] #Only affects 8 properties"
   ]
  },
  {
   "cell_type": "code",
   "execution_count": 36,
   "id": "39d76e9f-204a-41e0-9f33-fee2343832b4",
   "metadata": {},
   "outputs": [
    {
     "name": "stdout",
     "output_type": "stream",
     "text": [
      "<class 'pandas.core.frame.DataFrame'>\n",
      "Index: 946039 entries, 0 to 950518\n",
      "Data columns (total 4 columns):\n",
      " #   Column       Non-Null Count   Dtype \n",
      "---  ------       --------------   ----- \n",
      " 0   listing_id   946039 non-null  int64 \n",
      " 1   date         946039 non-null  object\n",
      " 2   reviewer_id  946039 non-null  int64 \n",
      " 3   year         946039 non-null  object\n",
      "dtypes: int64(2), object(2)\n",
      "memory usage: 36.1+ MB\n"
     ]
    }
   ],
   "source": [
    "#I will remove these but might need to double-check this assumption\n",
    "reviews = reviews[reviews.groupby('listing_id')['listing_id'].transform('count') <= 365]\n",
    "reviews.info()"
   ]
  },
  {
   "cell_type": "code",
   "execution_count": 3,
   "id": "f29fae2e-1901-4bbd-abc7-6c1ea0375f60",
   "metadata": {},
   "outputs": [],
   "source": [
    "#Work out how to operationalise Wang et al. (2024) equation\n",
    "#Join minimum stay length from listings data\n",
    "#Find total occupancy per period per listing\n",
    "#Aggregate by LSOA? Or average by LSOA\n",
    "#Summary stats\n",
    "\n",
    "#If time: work this out in 12 month intervals rather than years as I think it's more sensible to use most recent data!\n",
    "#But not a priority if the others aren't convinced"
   ]
  }
 ],
 "metadata": {
  "kernelspec": {
   "display_name": "Python (base)",
   "language": "python",
   "name": "base"
  },
  "language_info": {
   "codemirror_mode": {
    "name": "ipython",
    "version": 3
   },
   "file_extension": ".py",
   "mimetype": "text/x-python",
   "name": "python",
   "nbconvert_exporter": "python",
   "pygments_lexer": "ipython3",
   "version": "3.11.9"
  }
 },
 "nbformat": 4,
 "nbformat_minor": 5
}
